{
 "cells": [
  {
   "cell_type": "markdown",
   "metadata": {},
   "source": [
    "# 리베로 함수\n",
    "player 앱의 views.py 맨 상단에 위에 함수들 중 정의 안되어있는거 있으면 추가 해주세요"
   ]
  },
  {
   "cell_type": "code",
   "execution_count": 1,
   "metadata": {},
   "outputs": [],
   "source": [
    "import pandas as pd\n",
    "import numpy as np\n",
    "import matplotlib.pyplot as plt\n",
    "import plotly.express as px \n",
    "\n",
    "import platform\n",
    "from math import pi\n",
    "from matplotlib.path import Path\n",
    "from matplotlib.spines import Spine\n",
    "from matplotlib.transforms import Affine2D\n",
    "\n",
    "\n",
    "# 한글 폰트 사용을 위해서 세팅\n",
    "from matplotlib import font_manager, rc\n",
    "plt.rcParams['axes.unicode_minus']=False\n",
    "if platform.system()=='Darwin':\n",
    "    rc('font',family='AppleGothic')\n",
    "elif platform.system()=='Windows':\n",
    "    path='C:/Windows/Fonts/malgun.ttf'\n",
    "    font_name=font_manager.FontProperties(fname=path).get_name()\n",
    "    rc('font',family=font_name)\n",
    "else:\n",
    "    print('Unknown system...')"
   ]
  },
  {
   "cell_type": "markdown",
   "metadata": {},
   "source": [
    "- 아래 libero 함수는\n",
    "- DB불러오는 부분이랑\n",
    "- static에 사진 저장하는 경로만 수정하면 됩니다"
   ]
  },
  {
   "cell_type": "code",
   "execution_count": 2,
   "metadata": {},
   "outputs": [],
   "source": [
    "def libero(csv):\n",
    "\n",
    "    h_cap_lst = ['김명관', '김선호', '김형진', '문성민', '박경민', '박상하', '박주형', '박준혁', '송원근', '송준호', '여오현', '이원중', '이준승', '전광인', '차영석', '최민호', '최은석', '펠리페', '함형진', '허수봉', '홍동선', '히메네즈']\n",
    "\n",
    "    libero = csv\n",
    "    # 파생 컬럼 생성\n",
    "    libero[\"공격 성공률\"] = libero[\"공격 성공\"]/libero[\"공격 시도\"]\n",
    "    libero[\"공격 효율\"] = (libero[\"공격 성공\"] - libero[\"공격 상대 블락\"] - libero[\"공격 범실\"])/libero[\"공격 시도\"]\n",
    "    libero[\"서브 성공률\"] = libero[\"서브 성공\"]/libero[\"서브 시도\"]\n",
    "    libero[\"세트 성공률\"] = libero[\"세트 성공\"]/libero[\"세트 시도\"]\n",
    "    libero[\"블로킹 성공률\"] = libero[\"블로킹 성공\"]/libero[\"블로킹 시도\"]\n",
    "    libero[\"리시브 효율\"] = (libero[\"리시브 정확\"]-libero[\"리시브 실패\"])/libero[\"리시브 시도\"]\n",
    "    libero[\"디그 성공률\"] = libero[\"디그 성공\"]/libero[\"디그 시도\"]\n",
    "\n",
    "    top_libero = libero.iloc[:,[1,2,-1,-3,-4]]\n",
    "    top_libero = top_libero.fillna(0)\n",
    "\n",
    "    # 2021 KOVO 리베로 선수들 중 디그 성공률로 순위를 표현한 데이터프레임\n",
    "    top_libero_dig = top_libero.sort_values(by = \"디그 성공률\",ascending = False)\n",
    "    top_libero_dig[\"순위\"] = np.arange(1,len(top_libero_dig)+1)\n",
    "    top_libero_dig.set_index(\"순위\",inplace = True)\n",
    "\n",
    "    # 2021 KOVO 리베로 선수들 중 블로킹 성공률로 순위를 표현한 데이터프레임\n",
    "    top_libero_blocking = top_libero.sort_values(by = \"블로킹 성공률\",ascending = False)\n",
    "    top_libero_blocking[\"순위\"] = np.arange(1,len(top_libero_blocking)+1)\n",
    "    top_libero_blocking.set_index(\"순위\",inplace = True)\n",
    "\n",
    "    # 2021 KOVO 리베로 선수들 중 세트 성공률로 순위를 표현한 데이터프레임\n",
    "    top_libero_set = top_libero.sort_values(by = \"세트 성공률\",ascending = False)\n",
    "    top_libero_set[\"순위\"] = np.arange(1,len(top_libero_set)+1)\n",
    "    top_libero_set.set_index(\"순위\",inplace = True)\n",
    "\n",
    "    # 디그 성공률로 순위 매긴 데이터프레임에서 디그성공률 값만 가져와 리스트로 생성\n",
    "    # 추후 디그 성공률 산점도에 x축으로 넣어줄 값임\n",
    "    dig_suc = top_libero_dig[\"디그 성공률\"].tolist()\n",
    "    blocking_suc = top_libero_blocking[\"블로킹 성공률\"].tolist()\n",
    "    set_suc = top_libero_set[\"세트 성공률\"].tolist()\n",
    "\n",
    "    libero.set_index('Rank', inplace=True)\n",
    "    libero_lst = libero['선수명'].tolist()\n",
    "\n",
    "    for i, player in enumerate(h_cap_lst):\n",
    "\n",
    "            if player in libero_lst:\n",
    "                plt.figure(figsize=(9,7),facecolor = \"white\")\n",
    "\n",
    "                plt.subplot(2,1,1)\n",
    "                # 그래프 작성하려면 y축 값도 있긴 해야해서 y값 리스트 생성\n",
    "                y_dig = np.zeros(len(dig_suc))+1.3\n",
    "\n",
    "                # y축 삭제하기위해 ax 설정\n",
    "                ax = plt.gca()\n",
    "\n",
    "                # 모든 선수 점 찍기\n",
    "                plt.scatter(dig_suc,y_dig,c = \"black\")\n",
    "\n",
    "                # 이거 참고해서 조건문으로 해당 선수만 가져오면 될 듯\n",
    "                plt.scatter(top_libero_dig.loc[top_libero_dig[\"선수명\"]==player,\"디그 성공률\"],1.3,s=150,c =\"r\")\n",
    "\n",
    "                plt.ylim(0.1,-0.1)\n",
    "                plt.title('디그 성공률' , fontsize = 15)\n",
    "                plt.ylabel('Y-Axis')\n",
    "                plt.axis('scaled')\n",
    "\n",
    "                # x축 y축 삭제\n",
    "                ax.axes.yaxis.set_visible(False)\n",
    "                plt.gca().axes.xaxis.set_visible(False)\n",
    "\n",
    "\n",
    "                plt.subplot(2,1,2)\n",
    "                y_set = np.zeros(len(set_suc))+0\n",
    "                ax = plt.gca()\n",
    "                plt.scatter(set_suc,y_set,c = \"black\")\n",
    "\n",
    "                # 이거 참고해서 조건문으로 해당 선수만 가져오면 될 듯\n",
    "                plt.scatter(top_libero_set.loc[top_libero_set[\"선수명\"]==player,\"세트 성공률\"],0,s=150,c =\"r\")\n",
    "\n",
    "                plt.ylim(0.1,-0.1)\n",
    "                plt.title('세트 성공률' , fontsize = 15)\n",
    "                plt.ylabel('Y-Axis')\n",
    "                plt.axis('scaled')\n",
    "\n",
    "                # x축 y축 삭제\n",
    "                ax.axes.yaxis.set_visible(False)\n",
    "                plt.gca().axes.xaxis.set_visible(False)\n",
    "\n",
    "                plt.savefig('C:/image/'+str(player)+'_순위.png', bbox_inches = 'tight')\n",
    "\n",
    "                \n",
    "\n",
    "            else:\n",
    "                pass\n"
   ]
  },
  {
   "cell_type": "code",
   "execution_count": 3,
   "metadata": {},
   "outputs": [
    {
     "data": {
      "image/png": "[encoded data removed]",
      "text/plain": [
       "<Figure size 648x504 with 2 Axes>"
      ]
     },
     "metadata": {},
     "output_type": "display_data"
    },
    {
     "data": {
      "image/png": "[encoded data removed]",
      "text/plain": [
       "<Figure size 648x504 with 2 Axes>"
      ]
     },
     "metadata": {},
     "output_type": "display_data"
    },
    {
     "data": {
      "image/png": "[encoded data removed]",
      "text/plain": [
       "<Figure size 648x504 with 2 Axes>"
      ]
     },
     "metadata": {},
     "output_type": "display_data"
    },
    {
     "data": {
      "image/png": "[encoded data removed]",
      "text/plain": [
       "<Figure size 648x504 with 2 Axes>"
      ]
     },
     "metadata": {},
     "output_type": "display_data"
    }
   ],
   "source": [
    "df = pd.read_csv(\"C:/kovo/player_graph_app_libero_player.csv\")\n",
    "libero(df)"
   ]
  },
  {
   "cell_type": "code",
   "execution_count": null,
   "metadata": {},
   "outputs": [],
   "source": []
  }
 ],
 "metadata": {
  "kernelspec": {
   "display_name": "Python 3.9.12 ('base')",
   "language": "python",
   "name": "python3"
  },
  "language_info": {
   "codemirror_mode": {
    "name": "ipython",
    "version": 3
   },
   "file_extension": ".py",
   "mimetype": "text/x-python",
   "name": "python",
   "nbconvert_exporter": "python",
   "pygments_lexer": "ipython3",
   "version": "3.9.12"
  },
  "orig_nbformat": 4,
  "vscode": {
   "interpreter": {
    "hash": "ad2bdc8ecc057115af97d19610ffacc2b4e99fae6737bb82f5d7fb13d2f2c186"
   }
  }
 },
 "nbformat": 4,
 "nbformat_minor": 2
}
