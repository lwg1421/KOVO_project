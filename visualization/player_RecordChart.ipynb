{
 "cells": [
  {
   "cell_type": "code",
   "execution_count": 14,
   "metadata": {},
   "outputs": [],
   "source": [
    "# 불필요한 경고 출력 방지\n",
    "import warnings\n",
    "warnings.filterwarnings('ignore')\n",
    "\n",
    "import pandas as pd\n",
    "\n",
    "import matplotlib.pyplot as plt\n",
    "import pandas as pd\n",
    "import numpy as np\n",
    " \n",
    "from math import pi\n",
    "from matplotlib.path import Path\n",
    "from matplotlib.spines import Spine\n",
    "from matplotlib.transforms import Affine2D\n",
    "\n",
    "# 한글 폰트 사용을 위해서 세팅\n",
    "from matplotlib import font_manager, rc\n",
    "font_path = \"C:/Windows/Fonts/NGULIM.TTF\"\n",
    "font = font_manager.FontProperties(fname=font_path).get_name()\n",
    "rc('font', family=font)\n"
   ]
  },
  {
   "cell_type": "markdown",
   "metadata": {},
   "source": [
    "### 사용할 데이터셋 불러오기"
   ]
  },
  {
   "cell_type": "code",
   "execution_count": 15,
   "metadata": {},
   "outputs": [
    {
     "name": "stdout",
     "output_type": "stream",
     "text": [
      "(359, 16)\n"
     ]
    },
    {
     "data": {
      "text/html": [
       "<div>\n",
       "<style scoped>\n",
       "    .dataframe tbody tr th:only-of-type {\n",
       "        vertical-align: middle;\n",
       "    }\n",
       "\n",
       "    .dataframe tbody tr th {\n",
       "        vertical-align: top;\n",
       "    }\n",
       "\n",
       "    .dataframe thead th {\n",
       "        text-align: right;\n",
       "    }\n",
       "</style>\n",
       "<table border=\"1\" class=\"dataframe\">\n",
       "  <thead>\n",
       "    <tr style=\"text-align: right;\">\n",
       "      <th></th>\n",
       "      <th>player_name</th>\n",
       "      <th>player_position</th>\n",
       "      <th>player_number</th>\n",
       "      <th>game</th>\n",
       "      <th>season</th>\n",
       "      <th>game_count</th>\n",
       "      <th>set_count</th>\n",
       "      <th>score</th>\n",
       "      <th>attack_succes_percent</th>\n",
       "      <th>bloocking_avg</th>\n",
       "      <th>serve_avg</th>\n",
       "      <th>set_avg</th>\n",
       "      <th>reveive_eff</th>\n",
       "      <th>dig_avg</th>\n",
       "      <th>penalty</th>\n",
       "      <th>mistake</th>\n",
       "    </tr>\n",
       "  </thead>\n",
       "  <tbody>\n",
       "    <tr>\n",
       "      <th>0</th>\n",
       "      <td>김선호</td>\n",
       "      <td>OUTSIDE HITTER</td>\n",
       "      <td>NO.6</td>\n",
       "      <td>컵대회</td>\n",
       "      <td>22컵대회[조]</td>\n",
       "      <td>3</td>\n",
       "      <td>14</td>\n",
       "      <td>31</td>\n",
       "      <td>51.92</td>\n",
       "      <td>0.21</td>\n",
       "      <td>0.07</td>\n",
       "      <td>0.14</td>\n",
       "      <td>26.87</td>\n",
       "      <td>1.71</td>\n",
       "      <td>0</td>\n",
       "      <td>14</td>\n",
       "    </tr>\n",
       "    <tr>\n",
       "      <th>1</th>\n",
       "      <td>김선호</td>\n",
       "      <td>OUTSIDE HITTER</td>\n",
       "      <td>NO.6</td>\n",
       "      <td>V리그</td>\n",
       "      <td>21-22[정]</td>\n",
       "      <td>34</td>\n",
       "      <td>105</td>\n",
       "      <td>162</td>\n",
       "      <td>46.64</td>\n",
       "      <td>0.15</td>\n",
       "      <td>0.07</td>\n",
       "      <td>0.22</td>\n",
       "      <td>37.81</td>\n",
       "      <td>1.14</td>\n",
       "      <td>0</td>\n",
       "      <td>49</td>\n",
       "    </tr>\n",
       "    <tr>\n",
       "      <th>2</th>\n",
       "      <td>김선호</td>\n",
       "      <td>OUTSIDE HITTER</td>\n",
       "      <td>NO.6</td>\n",
       "      <td>컵대회</td>\n",
       "      <td>21컵대회[조]</td>\n",
       "      <td>3</td>\n",
       "      <td>11</td>\n",
       "      <td>16</td>\n",
       "      <td>25.58</td>\n",
       "      <td>0.45</td>\n",
       "      <td>0.00</td>\n",
       "      <td>0.00</td>\n",
       "      <td>29.41</td>\n",
       "      <td>1.00</td>\n",
       "      <td>0</td>\n",
       "      <td>10</td>\n",
       "    </tr>\n",
       "    <tr>\n",
       "      <th>3</th>\n",
       "      <td>김선호</td>\n",
       "      <td>OUTSIDE HITTER</td>\n",
       "      <td>NO.6</td>\n",
       "      <td>V리그</td>\n",
       "      <td>20-21[정]</td>\n",
       "      <td>28</td>\n",
       "      <td>102</td>\n",
       "      <td>185</td>\n",
       "      <td>44.94</td>\n",
       "      <td>0.25</td>\n",
       "      <td>0.08</td>\n",
       "      <td>0.14</td>\n",
       "      <td>35.60</td>\n",
       "      <td>1.35</td>\n",
       "      <td>0</td>\n",
       "      <td>87</td>\n",
       "    </tr>\n",
       "    <tr>\n",
       "      <th>4</th>\n",
       "      <td>박주형</td>\n",
       "      <td>OUTSIDE HITTER</td>\n",
       "      <td>NO.9</td>\n",
       "      <td>V리그</td>\n",
       "      <td>21-22[정]</td>\n",
       "      <td>1</td>\n",
       "      <td>1</td>\n",
       "      <td>0</td>\n",
       "      <td>0.00</td>\n",
       "      <td>0.00</td>\n",
       "      <td>0.00</td>\n",
       "      <td>0.00</td>\n",
       "      <td>66.67</td>\n",
       "      <td>2.00</td>\n",
       "      <td>0</td>\n",
       "      <td>0</td>\n",
       "    </tr>\n",
       "  </tbody>\n",
       "</table>\n",
       "</div>"
      ],
      "text/plain": [
       "  player_name player_position player_number game    season  game_count  \\\n",
       "0         김선호  OUTSIDE HITTER         NO.6   컵대회  22컵대회[조]           3   \n",
       "1         김선호  OUTSIDE HITTER         NO.6   V리그  21-22[정]          34   \n",
       "2         김선호  OUTSIDE HITTER         NO.6   컵대회  21컵대회[조]           3   \n",
       "3         김선호  OUTSIDE HITTER         NO.6   V리그  20-21[정]          28   \n",
       "4         박주형  OUTSIDE HITTER         NO.9   V리그  21-22[정]           1   \n",
       "\n",
       "   set_count  score  attack_succes_percent  bloocking_avg  serve_avg  set_avg  \\\n",
       "0         14     31                  51.92           0.21       0.07     0.14   \n",
       "1        105    162                  46.64           0.15       0.07     0.22   \n",
       "2         11     16                  25.58           0.45       0.00     0.00   \n",
       "3        102    185                  44.94           0.25       0.08     0.14   \n",
       "4          1      0                   0.00           0.00       0.00     0.00   \n",
       "\n",
       "   reveive_eff  dig_avg  penalty  mistake  \n",
       "0        26.87     1.71        0       14  \n",
       "1        37.81     1.14        0       49  \n",
       "2        29.41     1.00        0       10  \n",
       "3        35.60     1.35        0       87  \n",
       "4        66.67     2.00        0        0  "
      ]
     },
     "execution_count": 15,
     "metadata": {},
     "output_type": "execute_result"
    }
   ],
   "source": [
    "# 사용할 데이터 불러오기\n",
    "# 359행 16열\n",
    "player_record_data = pd.read_excel(\"C:/kovo/player_record_data.xlsx\")\n",
    "print(player_record_data.shape)\n",
    "player_record_data.head()"
   ]
  },
  {
   "cell_type": "markdown",
   "metadata": {},
   "source": [
    "### 필요한 데이터만 필터링하기"
   ]
  },
  {
   "cell_type": "code",
   "execution_count": 16,
   "metadata": {},
   "outputs": [
    {
     "name": "stdout",
     "output_type": "stream",
     "text": [
      "(207, 16)\n",
      "(126, 16)\n"
     ]
    }
   ],
   "source": [
    "# game 컬럼이 V리그인 행만 추출\n",
    "# 207행 16열 \n",
    "player_record_data_1 = player_record_data.loc[player_record_data[\"game\"]==\"V리그\"]\n",
    "print(player_record_data_1.shape)\n",
    "\n",
    "# 그 중에서도 season 컬럼에 \"정\"이 포함된 행만 추출\n",
    "# 126행 16열\n",
    "player_record_data_2 = player_record_data_1.loc[player_record_data_1[\"season\"].str.contains(\"정\")]\n",
    "print(player_record_data_2.shape)"
   ]
  },
  {
   "cell_type": "code",
   "execution_count": 17,
   "metadata": {},
   "outputs": [
    {
     "data": {
      "text/html": [
       "<div>\n",
       "<style scoped>\n",
       "    .dataframe tbody tr th:only-of-type {\n",
       "        vertical-align: middle;\n",
       "    }\n",
       "\n",
       "    .dataframe tbody tr th {\n",
       "        vertical-align: top;\n",
       "    }\n",
       "\n",
       "    .dataframe thead th {\n",
       "        text-align: right;\n",
       "    }\n",
       "</style>\n",
       "<table border=\"1\" class=\"dataframe\">\n",
       "  <thead>\n",
       "    <tr style=\"text-align: right;\">\n",
       "      <th></th>\n",
       "      <th>player_name</th>\n",
       "      <th>player_position</th>\n",
       "      <th>player_number</th>\n",
       "      <th>game</th>\n",
       "      <th>season</th>\n",
       "      <th>game_count</th>\n",
       "      <th>set_count</th>\n",
       "      <th>score</th>\n",
       "      <th>attack_succes_percent</th>\n",
       "      <th>bloocking_avg</th>\n",
       "      <th>serve_avg</th>\n",
       "      <th>set_avg</th>\n",
       "      <th>reveive_eff</th>\n",
       "      <th>dig_avg</th>\n",
       "      <th>penalty</th>\n",
       "      <th>mistake</th>\n",
       "    </tr>\n",
       "  </thead>\n",
       "  <tbody>\n",
       "    <tr>\n",
       "      <th>1</th>\n",
       "      <td>김선호</td>\n",
       "      <td>OUTSIDE HITTER</td>\n",
       "      <td>NO.6</td>\n",
       "      <td>V리그</td>\n",
       "      <td>21-22[정]</td>\n",
       "      <td>34</td>\n",
       "      <td>105</td>\n",
       "      <td>162</td>\n",
       "      <td>46.64</td>\n",
       "      <td>0.15</td>\n",
       "      <td>0.07</td>\n",
       "      <td>0.22</td>\n",
       "      <td>37.81</td>\n",
       "      <td>1.14</td>\n",
       "      <td>0</td>\n",
       "      <td>49</td>\n",
       "    </tr>\n",
       "    <tr>\n",
       "      <th>3</th>\n",
       "      <td>김선호</td>\n",
       "      <td>OUTSIDE HITTER</td>\n",
       "      <td>NO.6</td>\n",
       "      <td>V리그</td>\n",
       "      <td>20-21[정]</td>\n",
       "      <td>28</td>\n",
       "      <td>102</td>\n",
       "      <td>185</td>\n",
       "      <td>44.94</td>\n",
       "      <td>0.25</td>\n",
       "      <td>0.08</td>\n",
       "      <td>0.14</td>\n",
       "      <td>35.60</td>\n",
       "      <td>1.35</td>\n",
       "      <td>0</td>\n",
       "      <td>87</td>\n",
       "    </tr>\n",
       "    <tr>\n",
       "      <th>4</th>\n",
       "      <td>박주형</td>\n",
       "      <td>OUTSIDE HITTER</td>\n",
       "      <td>NO.9</td>\n",
       "      <td>V리그</td>\n",
       "      <td>21-22[정]</td>\n",
       "      <td>1</td>\n",
       "      <td>1</td>\n",
       "      <td>0</td>\n",
       "      <td>0.00</td>\n",
       "      <td>0.00</td>\n",
       "      <td>0.00</td>\n",
       "      <td>0.00</td>\n",
       "      <td>66.67</td>\n",
       "      <td>2.00</td>\n",
       "      <td>0</td>\n",
       "      <td>0</td>\n",
       "    </tr>\n",
       "    <tr>\n",
       "      <th>5</th>\n",
       "      <td>박주형</td>\n",
       "      <td>OUTSIDE HITTER</td>\n",
       "      <td>NO.9</td>\n",
       "      <td>V리그</td>\n",
       "      <td>20-21[정]</td>\n",
       "      <td>19</td>\n",
       "      <td>52</td>\n",
       "      <td>57</td>\n",
       "      <td>34.65</td>\n",
       "      <td>0.13</td>\n",
       "      <td>0.12</td>\n",
       "      <td>0.21</td>\n",
       "      <td>40.85</td>\n",
       "      <td>1.06</td>\n",
       "      <td>0</td>\n",
       "      <td>27</td>\n",
       "    </tr>\n",
       "    <tr>\n",
       "      <th>8</th>\n",
       "      <td>박주형</td>\n",
       "      <td>OUTSIDE HITTER</td>\n",
       "      <td>NO.9</td>\n",
       "      <td>V리그</td>\n",
       "      <td>19-20[정]</td>\n",
       "      <td>32</td>\n",
       "      <td>121</td>\n",
       "      <td>199</td>\n",
       "      <td>45.30</td>\n",
       "      <td>0.22</td>\n",
       "      <td>0.11</td>\n",
       "      <td>0.12</td>\n",
       "      <td>43.95</td>\n",
       "      <td>1.11</td>\n",
       "      <td>0</td>\n",
       "      <td>87</td>\n",
       "    </tr>\n",
       "    <tr>\n",
       "      <th>...</th>\n",
       "      <td>...</td>\n",
       "      <td>...</td>\n",
       "      <td>...</td>\n",
       "      <td>...</td>\n",
       "      <td>...</td>\n",
       "      <td>...</td>\n",
       "      <td>...</td>\n",
       "      <td>...</td>\n",
       "      <td>...</td>\n",
       "      <td>...</td>\n",
       "      <td>...</td>\n",
       "      <td>...</td>\n",
       "      <td>...</td>\n",
       "      <td>...</td>\n",
       "      <td>...</td>\n",
       "      <td>...</td>\n",
       "    </tr>\n",
       "    <tr>\n",
       "      <th>354</th>\n",
       "      <td>차영석</td>\n",
       "      <td>MIDDLE BLOCKER</td>\n",
       "      <td>NO.01</td>\n",
       "      <td>V리그</td>\n",
       "      <td>20-21(정)</td>\n",
       "      <td>28</td>\n",
       "      <td>99</td>\n",
       "      <td>162</td>\n",
       "      <td>57.98</td>\n",
       "      <td>0.48</td>\n",
       "      <td>0.05</td>\n",
       "      <td>0.08</td>\n",
       "      <td>54.55</td>\n",
       "      <td>0.58</td>\n",
       "      <td>0</td>\n",
       "      <td>52</td>\n",
       "    </tr>\n",
       "    <tr>\n",
       "      <th>355</th>\n",
       "      <td>차영석</td>\n",
       "      <td>MIDDLE BLOCKER</td>\n",
       "      <td>NO.01</td>\n",
       "      <td>V리그</td>\n",
       "      <td>19-20(정)</td>\n",
       "      <td>11</td>\n",
       "      <td>23</td>\n",
       "      <td>32</td>\n",
       "      <td>62.50</td>\n",
       "      <td>0.26</td>\n",
       "      <td>0.04</td>\n",
       "      <td>0.09</td>\n",
       "      <td>0.00</td>\n",
       "      <td>0.39</td>\n",
       "      <td>0</td>\n",
       "      <td>11</td>\n",
       "    </tr>\n",
       "    <tr>\n",
       "      <th>356</th>\n",
       "      <td>차영석</td>\n",
       "      <td>MIDDLE BLOCKER</td>\n",
       "      <td>NO.01</td>\n",
       "      <td>V리그</td>\n",
       "      <td>18-19(정)</td>\n",
       "      <td>13</td>\n",
       "      <td>36</td>\n",
       "      <td>47</td>\n",
       "      <td>48.57</td>\n",
       "      <td>0.33</td>\n",
       "      <td>0.03</td>\n",
       "      <td>0.08</td>\n",
       "      <td>66.67</td>\n",
       "      <td>0.42</td>\n",
       "      <td>0</td>\n",
       "      <td>28</td>\n",
       "    </tr>\n",
       "    <tr>\n",
       "      <th>357</th>\n",
       "      <td>차영석</td>\n",
       "      <td>MIDDLE BLOCKER</td>\n",
       "      <td>NO.01</td>\n",
       "      <td>V리그</td>\n",
       "      <td>17-18(정)</td>\n",
       "      <td>29</td>\n",
       "      <td>97</td>\n",
       "      <td>151</td>\n",
       "      <td>55.00</td>\n",
       "      <td>0.43</td>\n",
       "      <td>0.10</td>\n",
       "      <td>0.05</td>\n",
       "      <td>26.32</td>\n",
       "      <td>0.27</td>\n",
       "      <td>0</td>\n",
       "      <td>57</td>\n",
       "    </tr>\n",
       "    <tr>\n",
       "      <th>358</th>\n",
       "      <td>차영석</td>\n",
       "      <td>MIDDLE BLOCKER</td>\n",
       "      <td>NO.01</td>\n",
       "      <td>V리그</td>\n",
       "      <td>16-17(정)</td>\n",
       "      <td>1</td>\n",
       "      <td>1</td>\n",
       "      <td>1</td>\n",
       "      <td>0.00</td>\n",
       "      <td>1.00</td>\n",
       "      <td>0.00</td>\n",
       "      <td>0.00</td>\n",
       "      <td>0.00</td>\n",
       "      <td>1.00</td>\n",
       "      <td>0</td>\n",
       "      <td>1</td>\n",
       "    </tr>\n",
       "  </tbody>\n",
       "</table>\n",
       "<p>126 rows × 16 columns</p>\n",
       "</div>"
      ],
      "text/plain": [
       "    player_name player_position player_number game    season  game_count  \\\n",
       "1           김선호  OUTSIDE HITTER         NO.6   V리그  21-22[정]          34   \n",
       "3           김선호  OUTSIDE HITTER         NO.6   V리그  20-21[정]          28   \n",
       "4           박주형  OUTSIDE HITTER         NO.9   V리그  21-22[정]           1   \n",
       "5           박주형  OUTSIDE HITTER         NO.9   V리그  20-21[정]          19   \n",
       "8           박주형  OUTSIDE HITTER         NO.9   V리그  19-20[정]          32   \n",
       "..          ...             ...           ...  ...       ...         ...   \n",
       "354         차영석  MIDDLE BLOCKER         NO.01  V리그  20-21(정)          28   \n",
       "355         차영석  MIDDLE BLOCKER         NO.01  V리그  19-20(정)          11   \n",
       "356         차영석  MIDDLE BLOCKER         NO.01  V리그  18-19(정)          13   \n",
       "357         차영석  MIDDLE BLOCKER         NO.01  V리그  17-18(정)          29   \n",
       "358         차영석  MIDDLE BLOCKER         NO.01  V리그  16-17(정)           1   \n",
       "\n",
       "     set_count  score  attack_succes_percent  bloocking_avg  serve_avg  \\\n",
       "1          105    162                  46.64           0.15       0.07   \n",
       "3          102    185                  44.94           0.25       0.08   \n",
       "4            1      0                   0.00           0.00       0.00   \n",
       "5           52     57                  34.65           0.13       0.12   \n",
       "8          121    199                  45.30           0.22       0.11   \n",
       "..         ...    ...                    ...            ...        ...   \n",
       "354         99    162                  57.98           0.48       0.05   \n",
       "355         23     32                  62.50           0.26       0.04   \n",
       "356         36     47                  48.57           0.33       0.03   \n",
       "357         97    151                  55.00           0.43       0.10   \n",
       "358          1      1                   0.00           1.00       0.00   \n",
       "\n",
       "     set_avg  reveive_eff  dig_avg  penalty  mistake  \n",
       "1       0.22        37.81     1.14        0       49  \n",
       "3       0.14        35.60     1.35        0       87  \n",
       "4       0.00        66.67     2.00        0        0  \n",
       "5       0.21        40.85     1.06        0       27  \n",
       "8       0.12        43.95     1.11        0       87  \n",
       "..       ...          ...      ...      ...      ...  \n",
       "354     0.08        54.55     0.58        0       52  \n",
       "355     0.09         0.00     0.39        0       11  \n",
       "356     0.08        66.67     0.42        0       28  \n",
       "357     0.05        26.32     0.27        0       57  \n",
       "358     0.00         0.00     1.00        0        1  \n",
       "\n",
       "[126 rows x 16 columns]"
      ]
     },
     "execution_count": 17,
     "metadata": {},
     "output_type": "execute_result"
    }
   ],
   "source": [
    "# 필터링된 데이터프레임 확인\n",
    "player_record_data_2"
   ]
  },
  {
   "cell_type": "code",
   "execution_count": 18,
   "metadata": {},
   "outputs": [
    {
     "data": {
      "text/html": [
       "<div>\n",
       "<style scoped>\n",
       "    .dataframe tbody tr th:only-of-type {\n",
       "        vertical-align: middle;\n",
       "    }\n",
       "\n",
       "    .dataframe tbody tr th {\n",
       "        vertical-align: top;\n",
       "    }\n",
       "\n",
       "    .dataframe thead th {\n",
       "        text-align: right;\n",
       "    }\n",
       "</style>\n",
       "<table border=\"1\" class=\"dataframe\">\n",
       "  <thead>\n",
       "    <tr style=\"text-align: right;\">\n",
       "      <th></th>\n",
       "      <th>player_position</th>\n",
       "      <th>player_number</th>\n",
       "      <th>game</th>\n",
       "      <th>season</th>\n",
       "      <th>game_count</th>\n",
       "      <th>set_count</th>\n",
       "      <th>score</th>\n",
       "      <th>attack_succes_percent</th>\n",
       "      <th>bloocking_avg</th>\n",
       "      <th>serve_avg</th>\n",
       "      <th>set_avg</th>\n",
       "      <th>reveive_eff</th>\n",
       "      <th>dig_avg</th>\n",
       "      <th>penalty</th>\n",
       "      <th>mistake</th>\n",
       "    </tr>\n",
       "    <tr>\n",
       "      <th>player_name</th>\n",
       "      <th></th>\n",
       "      <th></th>\n",
       "      <th></th>\n",
       "      <th></th>\n",
       "      <th></th>\n",
       "      <th></th>\n",
       "      <th></th>\n",
       "      <th></th>\n",
       "      <th></th>\n",
       "      <th></th>\n",
       "      <th></th>\n",
       "      <th></th>\n",
       "      <th></th>\n",
       "      <th></th>\n",
       "      <th></th>\n",
       "    </tr>\n",
       "  </thead>\n",
       "  <tbody>\n",
       "    <tr>\n",
       "      <th>김명관</th>\n",
       "      <td>4</td>\n",
       "      <td>4</td>\n",
       "      <td>4</td>\n",
       "      <td>4</td>\n",
       "      <td>4</td>\n",
       "      <td>4</td>\n",
       "      <td>4</td>\n",
       "      <td>4</td>\n",
       "      <td>4</td>\n",
       "      <td>4</td>\n",
       "      <td>4</td>\n",
       "      <td>4</td>\n",
       "      <td>4</td>\n",
       "      <td>4</td>\n",
       "      <td>4</td>\n",
       "    </tr>\n",
       "    <tr>\n",
       "      <th>김선호</th>\n",
       "      <td>2</td>\n",
       "      <td>2</td>\n",
       "      <td>2</td>\n",
       "      <td>2</td>\n",
       "      <td>2</td>\n",
       "      <td>2</td>\n",
       "      <td>2</td>\n",
       "      <td>2</td>\n",
       "      <td>2</td>\n",
       "      <td>2</td>\n",
       "      <td>2</td>\n",
       "      <td>2</td>\n",
       "      <td>2</td>\n",
       "      <td>2</td>\n",
       "      <td>2</td>\n",
       "    </tr>\n",
       "    <tr>\n",
       "      <th>문성민</th>\n",
       "      <td>12</td>\n",
       "      <td>12</td>\n",
       "      <td>12</td>\n",
       "      <td>12</td>\n",
       "      <td>12</td>\n",
       "      <td>12</td>\n",
       "      <td>12</td>\n",
       "      <td>12</td>\n",
       "      <td>12</td>\n",
       "      <td>12</td>\n",
       "      <td>12</td>\n",
       "      <td>12</td>\n",
       "      <td>12</td>\n",
       "      <td>12</td>\n",
       "      <td>12</td>\n",
       "    </tr>\n",
       "    <tr>\n",
       "      <th>박경민</th>\n",
       "      <td>2</td>\n",
       "      <td>2</td>\n",
       "      <td>2</td>\n",
       "      <td>2</td>\n",
       "      <td>2</td>\n",
       "      <td>2</td>\n",
       "      <td>2</td>\n",
       "      <td>2</td>\n",
       "      <td>2</td>\n",
       "      <td>2</td>\n",
       "      <td>2</td>\n",
       "      <td>2</td>\n",
       "      <td>2</td>\n",
       "      <td>2</td>\n",
       "      <td>2</td>\n",
       "    </tr>\n",
       "    <tr>\n",
       "      <th>박상하</th>\n",
       "      <td>11</td>\n",
       "      <td>11</td>\n",
       "      <td>11</td>\n",
       "      <td>11</td>\n",
       "      <td>11</td>\n",
       "      <td>11</td>\n",
       "      <td>11</td>\n",
       "      <td>11</td>\n",
       "      <td>11</td>\n",
       "      <td>11</td>\n",
       "      <td>11</td>\n",
       "      <td>11</td>\n",
       "      <td>11</td>\n",
       "      <td>11</td>\n",
       "      <td>11</td>\n",
       "    </tr>\n",
       "    <tr>\n",
       "      <th>박주형</th>\n",
       "      <td>12</td>\n",
       "      <td>12</td>\n",
       "      <td>12</td>\n",
       "      <td>12</td>\n",
       "      <td>12</td>\n",
       "      <td>12</td>\n",
       "      <td>12</td>\n",
       "      <td>12</td>\n",
       "      <td>12</td>\n",
       "      <td>12</td>\n",
       "      <td>12</td>\n",
       "      <td>12</td>\n",
       "      <td>12</td>\n",
       "      <td>12</td>\n",
       "      <td>12</td>\n",
       "    </tr>\n",
       "    <tr>\n",
       "      <th>박준혁</th>\n",
       "      <td>5</td>\n",
       "      <td>5</td>\n",
       "      <td>5</td>\n",
       "      <td>5</td>\n",
       "      <td>5</td>\n",
       "      <td>5</td>\n",
       "      <td>5</td>\n",
       "      <td>5</td>\n",
       "      <td>5</td>\n",
       "      <td>5</td>\n",
       "      <td>5</td>\n",
       "      <td>5</td>\n",
       "      <td>5</td>\n",
       "      <td>5</td>\n",
       "      <td>5</td>\n",
       "    </tr>\n",
       "    <tr>\n",
       "      <th>송원근</th>\n",
       "      <td>3</td>\n",
       "      <td>3</td>\n",
       "      <td>3</td>\n",
       "      <td>3</td>\n",
       "      <td>3</td>\n",
       "      <td>3</td>\n",
       "      <td>3</td>\n",
       "      <td>3</td>\n",
       "      <td>3</td>\n",
       "      <td>3</td>\n",
       "      <td>3</td>\n",
       "      <td>3</td>\n",
       "      <td>3</td>\n",
       "      <td>3</td>\n",
       "      <td>3</td>\n",
       "    </tr>\n",
       "    <tr>\n",
       "      <th>송준호</th>\n",
       "      <td>8</td>\n",
       "      <td>8</td>\n",
       "      <td>8</td>\n",
       "      <td>8</td>\n",
       "      <td>8</td>\n",
       "      <td>8</td>\n",
       "      <td>8</td>\n",
       "      <td>8</td>\n",
       "      <td>8</td>\n",
       "      <td>8</td>\n",
       "      <td>8</td>\n",
       "      <td>8</td>\n",
       "      <td>8</td>\n",
       "      <td>8</td>\n",
       "      <td>8</td>\n",
       "    </tr>\n",
       "    <tr>\n",
       "      <th>여오현</th>\n",
       "      <td>18</td>\n",
       "      <td>18</td>\n",
       "      <td>18</td>\n",
       "      <td>18</td>\n",
       "      <td>18</td>\n",
       "      <td>18</td>\n",
       "      <td>18</td>\n",
       "      <td>18</td>\n",
       "      <td>18</td>\n",
       "      <td>18</td>\n",
       "      <td>18</td>\n",
       "      <td>18</td>\n",
       "      <td>18</td>\n",
       "      <td>18</td>\n",
       "      <td>18</td>\n",
       "    </tr>\n",
       "    <tr>\n",
       "      <th>이원중</th>\n",
       "      <td>3</td>\n",
       "      <td>3</td>\n",
       "      <td>3</td>\n",
       "      <td>3</td>\n",
       "      <td>3</td>\n",
       "      <td>3</td>\n",
       "      <td>3</td>\n",
       "      <td>3</td>\n",
       "      <td>3</td>\n",
       "      <td>3</td>\n",
       "      <td>3</td>\n",
       "      <td>3</td>\n",
       "      <td>3</td>\n",
       "      <td>3</td>\n",
       "      <td>3</td>\n",
       "    </tr>\n",
       "    <tr>\n",
       "      <th>이준승</th>\n",
       "      <td>2</td>\n",
       "      <td>2</td>\n",
       "      <td>2</td>\n",
       "      <td>2</td>\n",
       "      <td>2</td>\n",
       "      <td>2</td>\n",
       "      <td>2</td>\n",
       "      <td>2</td>\n",
       "      <td>2</td>\n",
       "      <td>2</td>\n",
       "      <td>2</td>\n",
       "      <td>2</td>\n",
       "      <td>2</td>\n",
       "      <td>2</td>\n",
       "      <td>2</td>\n",
       "    </tr>\n",
       "    <tr>\n",
       "      <th>전광인</th>\n",
       "      <td>8</td>\n",
       "      <td>8</td>\n",
       "      <td>8</td>\n",
       "      <td>8</td>\n",
       "      <td>8</td>\n",
       "      <td>8</td>\n",
       "      <td>8</td>\n",
       "      <td>8</td>\n",
       "      <td>8</td>\n",
       "      <td>8</td>\n",
       "      <td>8</td>\n",
       "      <td>8</td>\n",
       "      <td>8</td>\n",
       "      <td>8</td>\n",
       "      <td>8</td>\n",
       "    </tr>\n",
       "    <tr>\n",
       "      <th>차영석</th>\n",
       "      <td>6</td>\n",
       "      <td>6</td>\n",
       "      <td>6</td>\n",
       "      <td>6</td>\n",
       "      <td>6</td>\n",
       "      <td>6</td>\n",
       "      <td>6</td>\n",
       "      <td>6</td>\n",
       "      <td>6</td>\n",
       "      <td>6</td>\n",
       "      <td>6</td>\n",
       "      <td>6</td>\n",
       "      <td>6</td>\n",
       "      <td>6</td>\n",
       "      <td>6</td>\n",
       "    </tr>\n",
       "    <tr>\n",
       "      <th>최민호</th>\n",
       "      <td>10</td>\n",
       "      <td>10</td>\n",
       "      <td>10</td>\n",
       "      <td>10</td>\n",
       "      <td>10</td>\n",
       "      <td>10</td>\n",
       "      <td>10</td>\n",
       "      <td>10</td>\n",
       "      <td>10</td>\n",
       "      <td>10</td>\n",
       "      <td>10</td>\n",
       "      <td>10</td>\n",
       "      <td>10</td>\n",
       "      <td>10</td>\n",
       "      <td>10</td>\n",
       "    </tr>\n",
       "    <tr>\n",
       "      <th>최은석</th>\n",
       "      <td>4</td>\n",
       "      <td>4</td>\n",
       "      <td>4</td>\n",
       "      <td>4</td>\n",
       "      <td>4</td>\n",
       "      <td>4</td>\n",
       "      <td>4</td>\n",
       "      <td>4</td>\n",
       "      <td>4</td>\n",
       "      <td>4</td>\n",
       "      <td>4</td>\n",
       "      <td>4</td>\n",
       "      <td>4</td>\n",
       "      <td>4</td>\n",
       "      <td>4</td>\n",
       "    </tr>\n",
       "    <tr>\n",
       "      <th>펠리페</th>\n",
       "      <td>5</td>\n",
       "      <td>5</td>\n",
       "      <td>5</td>\n",
       "      <td>5</td>\n",
       "      <td>5</td>\n",
       "      <td>5</td>\n",
       "      <td>5</td>\n",
       "      <td>5</td>\n",
       "      <td>5</td>\n",
       "      <td>5</td>\n",
       "      <td>5</td>\n",
       "      <td>5</td>\n",
       "      <td>5</td>\n",
       "      <td>5</td>\n",
       "      <td>5</td>\n",
       "    </tr>\n",
       "    <tr>\n",
       "      <th>함형진</th>\n",
       "      <td>4</td>\n",
       "      <td>4</td>\n",
       "      <td>4</td>\n",
       "      <td>4</td>\n",
       "      <td>4</td>\n",
       "      <td>4</td>\n",
       "      <td>4</td>\n",
       "      <td>4</td>\n",
       "      <td>4</td>\n",
       "      <td>4</td>\n",
       "      <td>4</td>\n",
       "      <td>4</td>\n",
       "      <td>4</td>\n",
       "      <td>4</td>\n",
       "      <td>4</td>\n",
       "    </tr>\n",
       "    <tr>\n",
       "      <th>허수봉</th>\n",
       "      <td>5</td>\n",
       "      <td>5</td>\n",
       "      <td>5</td>\n",
       "      <td>5</td>\n",
       "      <td>5</td>\n",
       "      <td>5</td>\n",
       "      <td>5</td>\n",
       "      <td>5</td>\n",
       "      <td>5</td>\n",
       "      <td>5</td>\n",
       "      <td>5</td>\n",
       "      <td>5</td>\n",
       "      <td>5</td>\n",
       "      <td>5</td>\n",
       "      <td>5</td>\n",
       "    </tr>\n",
       "    <tr>\n",
       "      <th>홍동선</th>\n",
       "      <td>1</td>\n",
       "      <td>1</td>\n",
       "      <td>1</td>\n",
       "      <td>1</td>\n",
       "      <td>1</td>\n",
       "      <td>1</td>\n",
       "      <td>1</td>\n",
       "      <td>1</td>\n",
       "      <td>1</td>\n",
       "      <td>1</td>\n",
       "      <td>1</td>\n",
       "      <td>1</td>\n",
       "      <td>1</td>\n",
       "      <td>1</td>\n",
       "      <td>1</td>\n",
       "    </tr>\n",
       "    <tr>\n",
       "      <th>히메네즈</th>\n",
       "      <td>1</td>\n",
       "      <td>1</td>\n",
       "      <td>1</td>\n",
       "      <td>1</td>\n",
       "      <td>1</td>\n",
       "      <td>1</td>\n",
       "      <td>1</td>\n",
       "      <td>1</td>\n",
       "      <td>1</td>\n",
       "      <td>1</td>\n",
       "      <td>1</td>\n",
       "      <td>1</td>\n",
       "      <td>1</td>\n",
       "      <td>1</td>\n",
       "      <td>1</td>\n",
       "    </tr>\n",
       "  </tbody>\n",
       "</table>\n",
       "</div>"
      ],
      "text/plain": [
       "             player_position  player_number  game  season  game_count  \\\n",
       "player_name                                                             \n",
       "김명관                        4              4     4       4           4   \n",
       "김선호                        2              2     2       2           2   \n",
       "문성민                       12             12    12      12          12   \n",
       "박경민                        2              2     2       2           2   \n",
       "박상하                       11             11    11      11          11   \n",
       "박주형                       12             12    12      12          12   \n",
       "박준혁                        5              5     5       5           5   \n",
       "송원근                        3              3     3       3           3   \n",
       "송준호                        8              8     8       8           8   \n",
       "여오현                       18             18    18      18          18   \n",
       "이원중                        3              3     3       3           3   \n",
       "이준승                        2              2     2       2           2   \n",
       "전광인                        8              8     8       8           8   \n",
       "차영석                        6              6     6       6           6   \n",
       "최민호                       10             10    10      10          10   \n",
       "최은석                        4              4     4       4           4   \n",
       "펠리페                        5              5     5       5           5   \n",
       "함형진                        4              4     4       4           4   \n",
       "허수봉                        5              5     5       5           5   \n",
       "홍동선                        1              1     1       1           1   \n",
       "히메네즈                       1              1     1       1           1   \n",
       "\n",
       "             set_count  score  attack_succes_percent  bloocking_avg  \\\n",
       "player_name                                                           \n",
       "김명관                  4      4                      4              4   \n",
       "김선호                  2      2                      2              2   \n",
       "문성민                 12     12                     12             12   \n",
       "박경민                  2      2                      2              2   \n",
       "박상하                 11     11                     11             11   \n",
       "박주형                 12     12                     12             12   \n",
       "박준혁                  5      5                      5              5   \n",
       "송원근                  3      3                      3              3   \n",
       "송준호                  8      8                      8              8   \n",
       "여오현                 18     18                     18             18   \n",
       "이원중                  3      3                      3              3   \n",
       "이준승                  2      2                      2              2   \n",
       "전광인                  8      8                      8              8   \n",
       "차영석                  6      6                      6              6   \n",
       "최민호                 10     10                     10             10   \n",
       "최은석                  4      4                      4              4   \n",
       "펠리페                  5      5                      5              5   \n",
       "함형진                  4      4                      4              4   \n",
       "허수봉                  5      5                      5              5   \n",
       "홍동선                  1      1                      1              1   \n",
       "히메네즈                 1      1                      1              1   \n",
       "\n",
       "             serve_avg  set_avg  reveive_eff  dig_avg  penalty  mistake  \n",
       "player_name                                                              \n",
       "김명관                  4        4            4        4        4        4  \n",
       "김선호                  2        2            2        2        2        2  \n",
       "문성민                 12       12           12       12       12       12  \n",
       "박경민                  2        2            2        2        2        2  \n",
       "박상하                 11       11           11       11       11       11  \n",
       "박주형                 12       12           12       12       12       12  \n",
       "박준혁                  5        5            5        5        5        5  \n",
       "송원근                  3        3            3        3        3        3  \n",
       "송준호                  8        8            8        8        8        8  \n",
       "여오현                 18       18           18       18       18       18  \n",
       "이원중                  3        3            3        3        3        3  \n",
       "이준승                  2        2            2        2        2        2  \n",
       "전광인                  8        8            8        8        8        8  \n",
       "차영석                  6        6            6        6        6        6  \n",
       "최민호                 10       10           10       10       10       10  \n",
       "최은석                  4        4            4        4        4        4  \n",
       "펠리페                  5        5            5        5        5        5  \n",
       "함형진                  4        4            4        4        4        4  \n",
       "허수봉                  5        5            5        5        5        5  \n",
       "홍동선                  1        1            1        1        1        1  \n",
       "히메네즈                 1        1            1        1        1        1  "
      ]
     },
     "execution_count": 18,
     "metadata": {},
     "output_type": "execute_result"
    }
   ],
   "source": [
    "# 선수별로 데이터 몇 개씩 있는지 확인\n",
    "player_record_data_2.groupby(by = \"player_name\").count()"
   ]
  },
  {
   "cell_type": "markdown",
   "metadata": {},
   "source": [
    "### 시즌 중간에 팀을 옮겨서 데이터가 한 시즌에 두개가 있어 하나로 합쳐야하는 선수 명단\n",
    "- 김명관 20-21\n",
    "- 최은석 21-22\n",
    "- 김명관 20-21"
   ]
  },
  {
   "cell_type": "code",
   "execution_count": 19,
   "metadata": {},
   "outputs": [],
   "source": [
    "from IPython.core.interactiveshell import InteractiveShell\n",
    "InteractiveShell.ast_node_interactivity = \"all\""
   ]
  },
  {
   "cell_type": "code",
   "execution_count": 20,
   "metadata": {},
   "outputs": [
    {
     "data": {
      "text/html": [
       "<div>\n",
       "<style scoped>\n",
       "    .dataframe tbody tr th:only-of-type {\n",
       "        vertical-align: middle;\n",
       "    }\n",
       "\n",
       "    .dataframe tbody tr th {\n",
       "        vertical-align: top;\n",
       "    }\n",
       "\n",
       "    .dataframe thead th {\n",
       "        text-align: right;\n",
       "    }\n",
       "</style>\n",
       "<table border=\"1\" class=\"dataframe\">\n",
       "  <thead>\n",
       "    <tr style=\"text-align: right;\">\n",
       "      <th></th>\n",
       "      <th>player_name</th>\n",
       "      <th>player_position</th>\n",
       "      <th>player_number</th>\n",
       "      <th>game</th>\n",
       "      <th>season</th>\n",
       "      <th>game_count</th>\n",
       "      <th>set_count</th>\n",
       "      <th>score</th>\n",
       "      <th>attack_succes_percent</th>\n",
       "      <th>bloocking_avg</th>\n",
       "      <th>serve_avg</th>\n",
       "      <th>set_avg</th>\n",
       "      <th>reveive_eff</th>\n",
       "      <th>dig_avg</th>\n",
       "      <th>penalty</th>\n",
       "      <th>mistake</th>\n",
       "    </tr>\n",
       "  </thead>\n",
       "  <tbody>\n",
       "    <tr>\n",
       "      <th>251</th>\n",
       "      <td>김명관</td>\n",
       "      <td>SETTER</td>\n",
       "      <td>NO.3</td>\n",
       "      <td>V리그</td>\n",
       "      <td>20-21[정]</td>\n",
       "      <td>29</td>\n",
       "      <td>114</td>\n",
       "      <td>63</td>\n",
       "      <td>45.59</td>\n",
       "      <td>0.20</td>\n",
       "      <td>0.08</td>\n",
       "      <td>10.15</td>\n",
       "      <td>0.0</td>\n",
       "      <td>1.18</td>\n",
       "      <td>0</td>\n",
       "      <td>85</td>\n",
       "    </tr>\n",
       "    <tr>\n",
       "      <th>252</th>\n",
       "      <td>김명관</td>\n",
       "      <td>SETTER</td>\n",
       "      <td>NO.3</td>\n",
       "      <td>V리그</td>\n",
       "      <td>20-21[정]</td>\n",
       "      <td>7</td>\n",
       "      <td>29</td>\n",
       "      <td>22</td>\n",
       "      <td>46.67</td>\n",
       "      <td>0.34</td>\n",
       "      <td>0.17</td>\n",
       "      <td>8.28</td>\n",
       "      <td>0.0</td>\n",
       "      <td>0.93</td>\n",
       "      <td>0</td>\n",
       "      <td>17</td>\n",
       "    </tr>\n",
       "  </tbody>\n",
       "</table>\n",
       "</div>"
      ],
      "text/plain": [
       "    player_name player_position player_number game    season  game_count  \\\n",
       "251         김명관          SETTER         NO.3   V리그  20-21[정]          29   \n",
       "252         김명관          SETTER         NO.3   V리그  20-21[정]           7   \n",
       "\n",
       "     set_count  score  attack_succes_percent  bloocking_avg  serve_avg  \\\n",
       "251        114     63                  45.59           0.20       0.08   \n",
       "252         29     22                  46.67           0.34       0.17   \n",
       "\n",
       "     set_avg  reveive_eff  dig_avg  penalty  mistake  \n",
       "251    10.15          0.0     1.18        0       85  \n",
       "252     8.28          0.0     0.93        0       17  "
      ]
     },
     "execution_count": 20,
     "metadata": {},
     "output_type": "execute_result"
    }
   ],
   "source": [
    "# 김명관 선수 겹치는 데이터\n",
    "# 252행 삭제해야함\n",
    "kim_overlap = player_record_data_2.loc[(player_record_data_2[\"player_name\"]==\"김명관\")&(player_record_data_2[\"season\"]==\"20-21[정]\")]\n",
    "kim_overlap\n"
   ]
  },
  {
   "cell_type": "code",
   "execution_count": 21,
   "metadata": {},
   "outputs": [
    {
     "data": {
      "text/html": [
       "<div>\n",
       "<style scoped>\n",
       "    .dataframe tbody tr th:only-of-type {\n",
       "        vertical-align: middle;\n",
       "    }\n",
       "\n",
       "    .dataframe tbody tr th {\n",
       "        vertical-align: top;\n",
       "    }\n",
       "\n",
       "    .dataframe thead th {\n",
       "        text-align: right;\n",
       "    }\n",
       "</style>\n",
       "<table border=\"1\" class=\"dataframe\">\n",
       "  <thead>\n",
       "    <tr style=\"text-align: right;\">\n",
       "      <th></th>\n",
       "      <th>player_name</th>\n",
       "      <th>player_position</th>\n",
       "      <th>player_number</th>\n",
       "      <th>game</th>\n",
       "      <th>season</th>\n",
       "      <th>game_count</th>\n",
       "      <th>set_count</th>\n",
       "      <th>score</th>\n",
       "      <th>attack_succes_percent</th>\n",
       "      <th>bloocking_avg</th>\n",
       "      <th>serve_avg</th>\n",
       "      <th>set_avg</th>\n",
       "      <th>reveive_eff</th>\n",
       "      <th>dig_avg</th>\n",
       "      <th>penalty</th>\n",
       "      <th>mistake</th>\n",
       "    </tr>\n",
       "  </thead>\n",
       "  <tbody>\n",
       "    <tr>\n",
       "      <th>138</th>\n",
       "      <td>최은석</td>\n",
       "      <td>OPPOSITE SPIKER</td>\n",
       "      <td>NO.33</td>\n",
       "      <td>V리그</td>\n",
       "      <td>21-22[정]</td>\n",
       "      <td>4</td>\n",
       "      <td>5</td>\n",
       "      <td>1</td>\n",
       "      <td>50.00</td>\n",
       "      <td>0.0</td>\n",
       "      <td>0.0</td>\n",
       "      <td>0.0</td>\n",
       "      <td>0.0</td>\n",
       "      <td>0.00</td>\n",
       "      <td>0</td>\n",
       "      <td>3</td>\n",
       "    </tr>\n",
       "    <tr>\n",
       "      <th>139</th>\n",
       "      <td>최은석</td>\n",
       "      <td>OPPOSITE SPIKER</td>\n",
       "      <td>NO.33</td>\n",
       "      <td>V리그</td>\n",
       "      <td>21-22[정]</td>\n",
       "      <td>9</td>\n",
       "      <td>17</td>\n",
       "      <td>2</td>\n",
       "      <td>28.57</td>\n",
       "      <td>0.0</td>\n",
       "      <td>0.0</td>\n",
       "      <td>0.0</td>\n",
       "      <td>0.0</td>\n",
       "      <td>0.24</td>\n",
       "      <td>0</td>\n",
       "      <td>9</td>\n",
       "    </tr>\n",
       "  </tbody>\n",
       "</table>\n",
       "</div>"
      ],
      "text/plain": [
       "    player_name  player_position player_number game    season  game_count  \\\n",
       "138         최은석  OPPOSITE SPIKER        NO.33   V리그  21-22[정]           4   \n",
       "139         최은석  OPPOSITE SPIKER        NO.33   V리그  21-22[정]           9   \n",
       "\n",
       "     set_count  score  attack_succes_percent  bloocking_avg  serve_avg  \\\n",
       "138          5      1                  50.00            0.0        0.0   \n",
       "139         17      2                  28.57            0.0        0.0   \n",
       "\n",
       "     set_avg  reveive_eff  dig_avg  penalty  mistake  \n",
       "138      0.0          0.0     0.00        0        3  \n",
       "139      0.0          0.0     0.24        0        9  "
      ]
     },
     "execution_count": 21,
     "metadata": {},
     "output_type": "execute_result"
    }
   ],
   "source": [
    "# 최은석 선수 겹치는 데이터\n",
    "# 138행 삭제해야함\n",
    "choi_overlap = player_record_data_2.loc[(player_record_data_2[\"player_name\"]==\"최은석\")&(player_record_data_2[\"season\"]==\"21-22[정]\")]\n",
    "choi_overlap\n"
   ]
  },
  {
   "cell_type": "code",
   "execution_count": 22,
   "metadata": {},
   "outputs": [
    {
     "data": {
      "text/html": [
       "<div>\n",
       "<style scoped>\n",
       "    .dataframe tbody tr th:only-of-type {\n",
       "        vertical-align: middle;\n",
       "    }\n",
       "\n",
       "    .dataframe tbody tr th {\n",
       "        vertical-align: top;\n",
       "    }\n",
       "\n",
       "    .dataframe thead th {\n",
       "        text-align: right;\n",
       "    }\n",
       "</style>\n",
       "<table border=\"1\" class=\"dataframe\">\n",
       "  <thead>\n",
       "    <tr style=\"text-align: right;\">\n",
       "      <th></th>\n",
       "      <th>player_name</th>\n",
       "      <th>player_position</th>\n",
       "      <th>player_number</th>\n",
       "      <th>game</th>\n",
       "      <th>season</th>\n",
       "      <th>game_count</th>\n",
       "      <th>set_count</th>\n",
       "      <th>score</th>\n",
       "      <th>attack_succes_percent</th>\n",
       "      <th>bloocking_avg</th>\n",
       "      <th>serve_avg</th>\n",
       "      <th>set_avg</th>\n",
       "      <th>reveive_eff</th>\n",
       "      <th>dig_avg</th>\n",
       "      <th>penalty</th>\n",
       "      <th>mistake</th>\n",
       "    </tr>\n",
       "  </thead>\n",
       "  <tbody>\n",
       "    <tr>\n",
       "      <th>337</th>\n",
       "      <td>여오현</td>\n",
       "      <td>LIBERO</td>\n",
       "      <td>NO.5</td>\n",
       "      <td>V리그</td>\n",
       "      <td>05[정]</td>\n",
       "      <td>20</td>\n",
       "      <td>74</td>\n",
       "      <td>0</td>\n",
       "      <td>0.0</td>\n",
       "      <td>0.0</td>\n",
       "      <td>0.0</td>\n",
       "      <td>0.26</td>\n",
       "      <td>82.84</td>\n",
       "      <td>3.53</td>\n",
       "      <td>0</td>\n",
       "      <td>3</td>\n",
       "    </tr>\n",
       "  </tbody>\n",
       "</table>\n",
       "</div>"
      ],
      "text/plain": [
       "    player_name player_position player_number game season  game_count  \\\n",
       "337         여오현          LIBERO         NO.5   V리그  05[정]          20   \n",
       "\n",
       "     set_count  score  attack_succes_percent  bloocking_avg  serve_avg  \\\n",
       "337         74      0                    0.0            0.0        0.0   \n",
       "\n",
       "     set_avg  reveive_eff  dig_avg  penalty  mistake  \n",
       "337     0.26        82.84     3.53        0        3  "
      ]
     },
     "execution_count": 22,
     "metadata": {},
     "output_type": "execute_result"
    }
   ],
   "source": [
    "# 여오현 선수 05[정] 데이터 삭제해야함\n",
    "player_record_data_2.loc[(player_record_data_2[\"player_name\"]==\"여오현\")&(player_record_data_2[\"season\"]==\"05[정]\")]"
   ]
  },
  {
   "cell_type": "code",
   "execution_count": 23,
   "metadata": {},
   "outputs": [],
   "source": [
    "# 최은석, 김명관 선수 데이터 하나씩 삭제한 데이터프레임 생성 : player_record_data_3\n",
    "player_record_data_3 = player_record_data_2.drop(index = [138,252],axis = 0)"
   ]
  },
  {
   "cell_type": "code",
   "execution_count": 11,
   "metadata": {},
   "outputs": [],
   "source": [
    "# 이름순, 시즌순으로 데이터프레임 오름차순 정렬 : player_record_data_sort\n",
    "player_record_data_sort = player_record_data_3.sort_values(by = [\"player_name\",\"season\"], ascending = True)\n",
    "player_record_data_sort.reset_index(drop = True,inplace = True)"
   ]
  },
  {
   "cell_type": "code",
   "execution_count": 24,
   "metadata": {},
   "outputs": [
    {
     "data": {
      "text/html": [
       "<div>\n",
       "<style scoped>\n",
       "    .dataframe tbody tr th:only-of-type {\n",
       "        vertical-align: middle;\n",
       "    }\n",
       "\n",
       "    .dataframe tbody tr th {\n",
       "        vertical-align: top;\n",
       "    }\n",
       "\n",
       "    .dataframe thead th {\n",
       "        text-align: right;\n",
       "    }\n",
       "</style>\n",
       "<table border=\"1\" class=\"dataframe\">\n",
       "  <thead>\n",
       "    <tr style=\"text-align: right;\">\n",
       "      <th></th>\n",
       "      <th>player_name</th>\n",
       "      <th>player_position</th>\n",
       "      <th>player_number</th>\n",
       "      <th>game</th>\n",
       "      <th>season</th>\n",
       "      <th>game_count</th>\n",
       "      <th>set_count</th>\n",
       "      <th>score</th>\n",
       "      <th>attack_succes_percent</th>\n",
       "      <th>bloocking_avg</th>\n",
       "      <th>serve_avg</th>\n",
       "      <th>set_avg</th>\n",
       "      <th>reveive_eff</th>\n",
       "      <th>dig_avg</th>\n",
       "      <th>penalty</th>\n",
       "      <th>mistake</th>\n",
       "    </tr>\n",
       "  </thead>\n",
       "  <tbody>\n",
       "    <tr>\n",
       "      <th>0</th>\n",
       "      <td>김명관</td>\n",
       "      <td>SETTER</td>\n",
       "      <td>NO.3</td>\n",
       "      <td>V리그</td>\n",
       "      <td>19-20[정]</td>\n",
       "      <td>26</td>\n",
       "      <td>78</td>\n",
       "      <td>24</td>\n",
       "      <td>47.37</td>\n",
       "      <td>0.13</td>\n",
       "      <td>0.06</td>\n",
       "      <td>3.41</td>\n",
       "      <td>0.00</td>\n",
       "      <td>0.60</td>\n",
       "      <td>0</td>\n",
       "      <td>23</td>\n",
       "    </tr>\n",
       "    <tr>\n",
       "      <th>1</th>\n",
       "      <td>김명관</td>\n",
       "      <td>SETTER</td>\n",
       "      <td>NO.3</td>\n",
       "      <td>V리그</td>\n",
       "      <td>20-21[정]</td>\n",
       "      <td>29</td>\n",
       "      <td>114</td>\n",
       "      <td>63</td>\n",
       "      <td>45.59</td>\n",
       "      <td>0.20</td>\n",
       "      <td>0.08</td>\n",
       "      <td>10.15</td>\n",
       "      <td>0.00</td>\n",
       "      <td>1.18</td>\n",
       "      <td>0</td>\n",
       "      <td>85</td>\n",
       "    </tr>\n",
       "    <tr>\n",
       "      <th>2</th>\n",
       "      <td>김명관</td>\n",
       "      <td>SETTER</td>\n",
       "      <td>NO.3</td>\n",
       "      <td>V리그</td>\n",
       "      <td>21-22[정]</td>\n",
       "      <td>33</td>\n",
       "      <td>128</td>\n",
       "      <td>88</td>\n",
       "      <td>35.48</td>\n",
       "      <td>0.37</td>\n",
       "      <td>0.15</td>\n",
       "      <td>10.52</td>\n",
       "      <td>0.00</td>\n",
       "      <td>1.36</td>\n",
       "      <td>0</td>\n",
       "      <td>89</td>\n",
       "    </tr>\n",
       "    <tr>\n",
       "      <th>3</th>\n",
       "      <td>김선호</td>\n",
       "      <td>OUTSIDE HITTER</td>\n",
       "      <td>NO.6</td>\n",
       "      <td>V리그</td>\n",
       "      <td>20-21[정]</td>\n",
       "      <td>28</td>\n",
       "      <td>102</td>\n",
       "      <td>185</td>\n",
       "      <td>44.94</td>\n",
       "      <td>0.25</td>\n",
       "      <td>0.08</td>\n",
       "      <td>0.14</td>\n",
       "      <td>35.60</td>\n",
       "      <td>1.35</td>\n",
       "      <td>0</td>\n",
       "      <td>87</td>\n",
       "    </tr>\n",
       "    <tr>\n",
       "      <th>4</th>\n",
       "      <td>김선호</td>\n",
       "      <td>OUTSIDE HITTER</td>\n",
       "      <td>NO.6</td>\n",
       "      <td>V리그</td>\n",
       "      <td>21-22[정]</td>\n",
       "      <td>34</td>\n",
       "      <td>105</td>\n",
       "      <td>162</td>\n",
       "      <td>46.64</td>\n",
       "      <td>0.15</td>\n",
       "      <td>0.07</td>\n",
       "      <td>0.22</td>\n",
       "      <td>37.81</td>\n",
       "      <td>1.14</td>\n",
       "      <td>0</td>\n",
       "      <td>49</td>\n",
       "    </tr>\n",
       "    <tr>\n",
       "      <th>...</th>\n",
       "      <td>...</td>\n",
       "      <td>...</td>\n",
       "      <td>...</td>\n",
       "      <td>...</td>\n",
       "      <td>...</td>\n",
       "      <td>...</td>\n",
       "      <td>...</td>\n",
       "      <td>...</td>\n",
       "      <td>...</td>\n",
       "      <td>...</td>\n",
       "      <td>...</td>\n",
       "      <td>...</td>\n",
       "      <td>...</td>\n",
       "      <td>...</td>\n",
       "      <td>...</td>\n",
       "      <td>...</td>\n",
       "    </tr>\n",
       "    <tr>\n",
       "      <th>69</th>\n",
       "      <td>허수봉</td>\n",
       "      <td>OPPOSITE SPIKER</td>\n",
       "      <td>NO.7</td>\n",
       "      <td>V리그</td>\n",
       "      <td>18-19[정]</td>\n",
       "      <td>27</td>\n",
       "      <td>63</td>\n",
       "      <td>99</td>\n",
       "      <td>45.12</td>\n",
       "      <td>0.19</td>\n",
       "      <td>0.21</td>\n",
       "      <td>0.11</td>\n",
       "      <td>19.12</td>\n",
       "      <td>0.46</td>\n",
       "      <td>0</td>\n",
       "      <td>47</td>\n",
       "    </tr>\n",
       "    <tr>\n",
       "      <th>70</th>\n",
       "      <td>허수봉</td>\n",
       "      <td>OPPOSITE SPIKER</td>\n",
       "      <td>NO.7</td>\n",
       "      <td>V리그</td>\n",
       "      <td>20-21[정]</td>\n",
       "      <td>26</td>\n",
       "      <td>102</td>\n",
       "      <td>330</td>\n",
       "      <td>49.43</td>\n",
       "      <td>0.28</td>\n",
       "      <td>0.41</td>\n",
       "      <td>0.16</td>\n",
       "      <td>31.07</td>\n",
       "      <td>0.95</td>\n",
       "      <td>0</td>\n",
       "      <td>129</td>\n",
       "    </tr>\n",
       "    <tr>\n",
       "      <th>71</th>\n",
       "      <td>허수봉</td>\n",
       "      <td>OPPOSITE SPIKER</td>\n",
       "      <td>NO.7</td>\n",
       "      <td>V리그</td>\n",
       "      <td>21-22[정]</td>\n",
       "      <td>36</td>\n",
       "      <td>140</td>\n",
       "      <td>602</td>\n",
       "      <td>52.89</td>\n",
       "      <td>0.25</td>\n",
       "      <td>0.20</td>\n",
       "      <td>0.16</td>\n",
       "      <td>28.83</td>\n",
       "      <td>1.14</td>\n",
       "      <td>0</td>\n",
       "      <td>217</td>\n",
       "    </tr>\n",
       "    <tr>\n",
       "      <th>72</th>\n",
       "      <td>홍동선</td>\n",
       "      <td>OUTSIDE HITTER</td>\n",
       "      <td>NO.18</td>\n",
       "      <td>V리그</td>\n",
       "      <td>21-22[정]</td>\n",
       "      <td>13</td>\n",
       "      <td>31</td>\n",
       "      <td>64</td>\n",
       "      <td>44.72</td>\n",
       "      <td>0.16</td>\n",
       "      <td>0.13</td>\n",
       "      <td>0.10</td>\n",
       "      <td>39.26</td>\n",
       "      <td>1.03</td>\n",
       "      <td>0</td>\n",
       "      <td>34</td>\n",
       "    </tr>\n",
       "    <tr>\n",
       "      <th>73</th>\n",
       "      <td>히메네즈</td>\n",
       "      <td>OPPOSITE SPIKER</td>\n",
       "      <td>NO.2</td>\n",
       "      <td>V리그</td>\n",
       "      <td>21-22[정]</td>\n",
       "      <td>14</td>\n",
       "      <td>41</td>\n",
       "      <td>181</td>\n",
       "      <td>50.74</td>\n",
       "      <td>0.22</td>\n",
       "      <td>0.02</td>\n",
       "      <td>0.05</td>\n",
       "      <td>0.00</td>\n",
       "      <td>1.10</td>\n",
       "      <td>0</td>\n",
       "      <td>57</td>\n",
       "    </tr>\n",
       "  </tbody>\n",
       "</table>\n",
       "<p>74 rows × 16 columns</p>\n",
       "</div>"
      ],
      "text/plain": [
       "   player_name  player_position player_number game    season  game_count  \\\n",
       "0          김명관           SETTER         NO.3   V리그  19-20[정]          26   \n",
       "1          김명관           SETTER         NO.3   V리그  20-21[정]          29   \n",
       "2          김명관           SETTER         NO.3   V리그  21-22[정]          33   \n",
       "3          김선호   OUTSIDE HITTER         NO.6   V리그  20-21[정]          28   \n",
       "4          김선호   OUTSIDE HITTER         NO.6   V리그  21-22[정]          34   \n",
       "..         ...              ...           ...  ...       ...         ...   \n",
       "69         허수봉  OPPOSITE SPIKER         NO.7   V리그  18-19[정]          27   \n",
       "70         허수봉  OPPOSITE SPIKER         NO.7   V리그  20-21[정]          26   \n",
       "71         허수봉  OPPOSITE SPIKER         NO.7   V리그  21-22[정]          36   \n",
       "72         홍동선   OUTSIDE HITTER        NO.18   V리그  21-22[정]          13   \n",
       "73        히메네즈  OPPOSITE SPIKER         NO.2   V리그  21-22[정]          14   \n",
       "\n",
       "    set_count  score  attack_succes_percent  bloocking_avg  serve_avg  \\\n",
       "0          78     24                  47.37           0.13       0.06   \n",
       "1         114     63                  45.59           0.20       0.08   \n",
       "2         128     88                  35.48           0.37       0.15   \n",
       "3         102    185                  44.94           0.25       0.08   \n",
       "4         105    162                  46.64           0.15       0.07   \n",
       "..        ...    ...                    ...            ...        ...   \n",
       "69         63     99                  45.12           0.19       0.21   \n",
       "70        102    330                  49.43           0.28       0.41   \n",
       "71        140    602                  52.89           0.25       0.20   \n",
       "72         31     64                  44.72           0.16       0.13   \n",
       "73         41    181                  50.74           0.22       0.02   \n",
       "\n",
       "    set_avg  reveive_eff  dig_avg  penalty  mistake  \n",
       "0      3.41         0.00     0.60        0       23  \n",
       "1     10.15         0.00     1.18        0       85  \n",
       "2     10.52         0.00     1.36        0       89  \n",
       "3      0.14        35.60     1.35        0       87  \n",
       "4      0.22        37.81     1.14        0       49  \n",
       "..      ...          ...      ...      ...      ...  \n",
       "69     0.11        19.12     0.46        0       47  \n",
       "70     0.16        31.07     0.95        0      129  \n",
       "71     0.16        28.83     1.14        0      217  \n",
       "72     0.10        39.26     1.03        0       34  \n",
       "73     0.05         0.00     1.10        0       57  \n",
       "\n",
       "[74 rows x 16 columns]"
      ]
     },
     "execution_count": 24,
     "metadata": {},
     "output_type": "execute_result"
    }
   ],
   "source": [
    "# 최근 5개 시즌만의 데이터만 포함한 데이터프레임 생성 : player_record_data_season5\n",
    "\n",
    "season_list = [\"22\",\"21\",\"20\",\"19\",\"18\"]\n",
    "season_contain = \"|\".join(season_list)\n",
    "player_record_data_season5 = player_record_data_sort[player_record_data_sort[\"season\"].str.contains(season_contain)]\n",
    "player_record_data_season5.reset_index(drop = True,inplace = True)\n",
    "player_record_data_season5"
   ]
  },
  {
   "cell_type": "code",
   "execution_count": 28,
   "metadata": {},
   "outputs": [],
   "source": [
    "# 최종 사용할 최근 5개년 데이터 저장\n",
    "#player_record_data_season5.to_csv(\"C:/kovo/player_record_data_season5.csv\", index = False, encoding='utf-8-sig')"
   ]
  },
  {
   "cell_type": "code",
   "execution_count": 31,
   "metadata": {},
   "outputs": [],
   "source": [
    "player_record_data_season5 = pd.read_csv(\"C:/kovo/player_record_data_season5.csv\")\n"
   ]
  },
  {
   "cell_type": "code",
   "execution_count": 34,
   "metadata": {},
   "outputs": [
    {
     "data": {
      "text/plain": [
       "<Figure size 504x1008 with 0 Axes>"
      ]
     },
     "execution_count": 34,
     "metadata": {},
     "output_type": "execute_result"
    },
    {
     "data": {
      "text/plain": [
       "<AxesSubplot:>"
      ]
     },
     "execution_count": 34,
     "metadata": {},
     "output_type": "execute_result"
    },
    {
     "data": {
      "text/plain": [
       "[<matplotlib.lines.Line2D at 0x1a2da4bc130>]"
      ]
     },
     "execution_count": 34,
     "metadata": {},
     "output_type": "execute_result"
    },
    {
     "data": {
      "text/plain": [
       "Text(0.5, 1.0, '득점')"
      ]
     },
     "execution_count": 34,
     "metadata": {},
     "output_type": "execute_result"
    },
    {
     "data": {
      "text/plain": [
       "Text(0.5, 0, '시즌')"
      ]
     },
     "execution_count": 34,
     "metadata": {},
     "output_type": "execute_result"
    },
    {
     "data": {
      "text/plain": [
       "<AxesSubplot:>"
      ]
     },
     "execution_count": 34,
     "metadata": {},
     "output_type": "execute_result"
    },
    {
     "data": {
      "text/plain": [
       "[<matplotlib.lines.Line2D at 0x1a2da4e6ca0>]"
      ]
     },
     "execution_count": 34,
     "metadata": {},
     "output_type": "execute_result"
    },
    {
     "data": {
      "text/plain": [
       "Text(0.5, 1.0, '공격 성공률')"
      ]
     },
     "execution_count": 34,
     "metadata": {},
     "output_type": "execute_result"
    },
    {
     "data": {
      "text/plain": [
       "Text(0.5, 0, '시즌')"
      ]
     },
     "execution_count": 34,
     "metadata": {},
     "output_type": "execute_result"
    },
    {
     "data": {
      "text/plain": [
       "<AxesSubplot:>"
      ]
     },
     "execution_count": 34,
     "metadata": {},
     "output_type": "execute_result"
    },
    {
     "data": {
      "text/plain": [
       "[<matplotlib.lines.Line2D at 0x1a2da524700>]"
      ]
     },
     "execution_count": 34,
     "metadata": {},
     "output_type": "execute_result"
    },
    {
     "data": {
      "text/plain": [
       "Text(0.5, 1.0, '블로킹 AVG(set)')"
      ]
     },
     "execution_count": 34,
     "metadata": {},
     "output_type": "execute_result"
    },
    {
     "data": {
      "text/plain": [
       "Text(0.5, 0, '시즌')"
      ]
     },
     "execution_count": 34,
     "metadata": {},
     "output_type": "execute_result"
    },
    {
     "data": {
      "text/plain": [
       "<AxesSubplot:>"
      ]
     },
     "execution_count": 34,
     "metadata": {},
     "output_type": "execute_result"
    },
    {
     "data": {
      "text/plain": [
       "[<matplotlib.lines.Line2D at 0x1a2da565280>]"
      ]
     },
     "execution_count": 34,
     "metadata": {},
     "output_type": "execute_result"
    },
    {
     "data": {
      "text/plain": [
       "Text(0.5, 1.0, '서브 AVG(set)')"
      ]
     },
     "execution_count": 34,
     "metadata": {},
     "output_type": "execute_result"
    },
    {
     "data": {
      "text/plain": [
       "Text(0.5, 0, '시즌')"
      ]
     },
     "execution_count": 34,
     "metadata": {},
     "output_type": "execute_result"
    },
    {
     "data": {
      "text/plain": [
       "<AxesSubplot:>"
      ]
     },
     "execution_count": 34,
     "metadata": {},
     "output_type": "execute_result"
    },
    {
     "data": {
      "text/plain": [
       "[<matplotlib.lines.Line2D at 0x1a2da597e20>]"
      ]
     },
     "execution_count": 34,
     "metadata": {},
     "output_type": "execute_result"
    },
    {
     "data": {
      "text/plain": [
       "Text(0.5, 1.0, '세트 AVG(set)')"
      ]
     },
     "execution_count": 34,
     "metadata": {},
     "output_type": "execute_result"
    },
    {
     "data": {
      "text/plain": [
       "Text(0.5, 0, '시즌')"
      ]
     },
     "execution_count": 34,
     "metadata": {},
     "output_type": "execute_result"
    },
    {
     "data": {
      "text/plain": [
       "<AxesSubplot:>"
      ]
     },
     "execution_count": 34,
     "metadata": {},
     "output_type": "execute_result"
    },
    {
     "data": {
      "text/plain": [
       "[<matplotlib.lines.Line2D at 0x1a2da5d6a60>]"
      ]
     },
     "execution_count": 34,
     "metadata": {},
     "output_type": "execute_result"
    },
    {
     "data": {
      "text/plain": [
       "Text(0.5, 1.0, '리시브 효율')"
      ]
     },
     "execution_count": 34,
     "metadata": {},
     "output_type": "execute_result"
    },
    {
     "data": {
      "text/plain": [
       "Text(0.5, 0, '시즌')"
      ]
     },
     "execution_count": 34,
     "metadata": {},
     "output_type": "execute_result"
    },
    {
     "data": {
      "text/plain": [
       "<AxesSubplot:>"
      ]
     },
     "execution_count": 34,
     "metadata": {},
     "output_type": "execute_result"
    },
    {
     "data": {
      "text/plain": [
       "[<matplotlib.lines.Line2D at 0x1a2da616610>]"
      ]
     },
     "execution_count": 34,
     "metadata": {},
     "output_type": "execute_result"
    },
    {
     "data": {
      "text/plain": [
       "Text(0.5, 1.0, '디그 AVG(set)')"
      ]
     },
     "execution_count": 34,
     "metadata": {},
     "output_type": "execute_result"
    },
    {
     "data": {
      "text/plain": [
       "Text(0.5, 0, '시즌')"
      ]
     },
     "execution_count": 34,
     "metadata": {},
     "output_type": "execute_result"
    },
    {
     "data": {
      "text/plain": [
       "<AxesSubplot:>"
      ]
     },
     "execution_count": 34,
     "metadata": {},
     "output_type": "execute_result"
    },
    {
     "data": {
      "text/plain": [
       "[<matplotlib.lines.Line2D at 0x1a2da8a82b0>]"
      ]
     },
     "execution_count": 34,
     "metadata": {},
     "output_type": "execute_result"
    },
    {
     "data": {
      "text/plain": [
       "Text(0.5, 1.0, '범실')"
      ]
     },
     "execution_count": 34,
     "metadata": {},
     "output_type": "execute_result"
    },
    {
     "data": {
      "text/plain": [
       "Text(0.5, 0, '시즌')"
      ]
     },
     "execution_count": 34,
     "metadata": {},
     "output_type": "execute_result"
    },
    {
     "data": {
      "text/plain": [
       "Text(0.5, 0.98, '김명관선수 시즌별 기록')"
      ]
     },
     "execution_count": 34,
     "metadata": {},
     "output_type": "execute_result"
    },
    {
     "data": {
      "image/png": "[encoded data removed]",
      "text/plain": [
       "<Figure size 504x1008 with 8 Axes>"
      ]
     },
     "metadata": {},
     "output_type": "display_data"
    },
    {
     "data": {
      "text/plain": [
       "<Figure size 504x1008 with 0 Axes>"
      ]
     },
     "execution_count": 34,
     "metadata": {},
     "output_type": "execute_result"
    },
    {
     "data": {
      "text/plain": [
       "<AxesSubplot:>"
      ]
     },
     "execution_count": 34,
     "metadata": {},
     "output_type": "execute_result"
    },
    {
     "data": {
      "text/plain": [
       "[<matplotlib.lines.Line2D at 0x1a2da97b160>]"
      ]
     },
     "execution_count": 34,
     "metadata": {},
     "output_type": "execute_result"
    },
    {
     "data": {
      "text/plain": [
       "Text(0.5, 1.0, '득점')"
      ]
     },
     "execution_count": 34,
     "metadata": {},
     "output_type": "execute_result"
    },
    {
     "data": {
      "text/plain": [
       "Text(0.5, 0, '시즌')"
      ]
     },
     "execution_count": 34,
     "metadata": {},
     "output_type": "execute_result"
    },
    {
     "data": {
      "text/plain": [
       "<AxesSubplot:>"
      ]
     },
     "execution_count": 34,
     "metadata": {},
     "output_type": "execute_result"
    },
    {
     "data": {
      "text/plain": [
       "[<matplotlib.lines.Line2D at 0x1a2da9a9d30>]"
      ]
     },
     "execution_count": 34,
     "metadata": {},
     "output_type": "execute_result"
    },
    {
     "data": {
      "text/plain": [
       "Text(0.5, 1.0, '공격 성공률')"
      ]
     },
     "execution_count": 34,
     "metadata": {},
     "output_type": "execute_result"
    },
    {
     "data": {
      "text/plain": [
       "Text(0.5, 0, '시즌')"
      ]
     },
     "execution_count": 34,
     "metadata": {},
     "output_type": "execute_result"
    },
    {
     "data": {
      "text/plain": [
       "<AxesSubplot:>"
      ]
     },
     "execution_count": 34,
     "metadata": {},
     "output_type": "execute_result"
    },
    {
     "data": {
      "text/plain": [
       "[<matplotlib.lines.Line2D at 0x1a2db9e5850>]"
      ]
     },
     "execution_count": 34,
     "metadata": {},
     "output_type": "execute_result"
    },
    {
     "data": {
      "text/plain": [
       "Text(0.5, 1.0, '블로킹 AVG(set)')"
      ]
     },
     "execution_count": 34,
     "metadata": {},
     "output_type": "execute_result"
    },
    {
     "data": {
      "text/plain": [
       "Text(0.5, 0, '시즌')"
      ]
     },
     "execution_count": 34,
     "metadata": {},
     "output_type": "execute_result"
    },
    {
     "data": {
      "text/plain": [
       "<AxesSubplot:>"
      ]
     },
     "execution_count": 34,
     "metadata": {},
     "output_type": "execute_result"
    },
    {
     "data": {
      "text/plain": [
       "[<matplotlib.lines.Line2D at 0x1a2dba262b0>]"
      ]
     },
     "execution_count": 34,
     "metadata": {},
     "output_type": "execute_result"
    },
    {
     "data": {
      "text/plain": [
       "Text(0.5, 1.0, '서브 AVG(set)')"
      ]
     },
     "execution_count": 34,
     "metadata": {},
     "output_type": "execute_result"
    },
    {
     "data": {
      "text/plain": [
       "Text(0.5, 0, '시즌')"
      ]
     },
     "execution_count": 34,
     "metadata": {},
     "output_type": "execute_result"
    },
    {
     "data": {
      "text/plain": [
       "<AxesSubplot:>"
      ]
     },
     "execution_count": 34,
     "metadata": {},
     "output_type": "execute_result"
    },
    {
     "data": {
      "text/plain": [
       "[<matplotlib.lines.Line2D at 0x1a2dba56eb0>]"
      ]
     },
     "execution_count": 34,
     "metadata": {},
     "output_type": "execute_result"
    },
    {
     "data": {
      "text/plain": [
       "Text(0.5, 1.0, '세트 AVG(set)')"
      ]
     },
     "execution_count": 34,
     "metadata": {},
     "output_type": "execute_result"
    },
    {
     "data": {
      "text/plain": [
       "Text(0.5, 0, '시즌')"
      ]
     },
     "execution_count": 34,
     "metadata": {},
     "output_type": "execute_result"
    },
    {
     "data": {
      "text/plain": [
       "<AxesSubplot:>"
      ]
     },
     "execution_count": 34,
     "metadata": {},
     "output_type": "execute_result"
    },
    {
     "data": {
      "text/plain": [
       "[<matplotlib.lines.Line2D at 0x1a2dba96ac0>]"
      ]
     },
     "execution_count": 34,
     "metadata": {},
     "output_type": "execute_result"
    },
    {
     "data": {
      "text/plain": [
       "Text(0.5, 1.0, '리시브 효율')"
      ]
     },
     "execution_count": 34,
     "metadata": {},
     "output_type": "execute_result"
    },
    {
     "data": {
      "text/plain": [
       "Text(0.5, 0, '시즌')"
      ]
     },
     "execution_count": 34,
     "metadata": {},
     "output_type": "execute_result"
    },
    {
     "data": {
      "text/plain": [
       "<AxesSubplot:>"
      ]
     },
     "execution_count": 34,
     "metadata": {},
     "output_type": "execute_result"
    },
    {
     "data": {
      "text/plain": [
       "[<matplotlib.lines.Line2D at 0x1a2dbad56d0>]"
      ]
     },
     "execution_count": 34,
     "metadata": {},
     "output_type": "execute_result"
    },
    {
     "data": {
      "text/plain": [
       "Text(0.5, 1.0, '디그 AVG(set)')"
      ]
     },
     "execution_count": 34,
     "metadata": {},
     "output_type": "execute_result"
    },
    {
     "data": {
      "text/plain": [
       "Text(0.5, 0, '시즌')"
      ]
     },
     "execution_count": 34,
     "metadata": {},
     "output_type": "execute_result"
    },
    {
     "data": {
      "text/plain": [
       "<AxesSubplot:>"
      ]
     },
     "execution_count": 34,
     "metadata": {},
     "output_type": "execute_result"
    },
    {
     "data": {
      "text/plain": [
       "[<matplotlib.lines.Line2D at 0x1a2dbb2b2e0>]"
      ]
     },
     "execution_count": 34,
     "metadata": {},
     "output_type": "execute_result"
    },
    {
     "data": {
      "text/plain": [
       "Text(0.5, 1.0, '범실')"
      ]
     },
     "execution_count": 34,
     "metadata": {},
     "output_type": "execute_result"
    },
    {
     "data": {
      "text/plain": [
       "Text(0.5, 0, '시즌')"
      ]
     },
     "execution_count": 34,
     "metadata": {},
     "output_type": "execute_result"
    },
    {
     "data": {
      "text/plain": [
       "Text(0.5, 0.98, '김선호선수 시즌별 기록')"
      ]
     },
     "execution_count": 34,
     "metadata": {},
     "output_type": "execute_result"
    },
    {
     "data": {
      "image/png": "[encoded data removed]",
      "text/plain": [
       "<Figure size 504x1008 with 8 Axes>"
      ]
     },
     "metadata": {},
     "output_type": "display_data"
    }
   ],
   "source": [
    "# 득점 최근 5년(데이터가 있다면) 득점 양상 그래프\n",
    "for player in player_record_data_season5[\"player_name\"].unique().tolist()[:2] :\n",
    "    dt = player_record_data_season5.loc[(player_record_data_season5[\"player_name\"]==player)]\n",
    "\n",
    "    # plt.figure(figsize=(7,3),facecolor = \"white\")\n",
    "    # plt.plot(dt.loc[:,\"season\"],dt.loc[:,\"score\"],\"--or\")\n",
    "    # plt.title(player+\"선수 득점\", fontsize=15)\n",
    "    # plt.xlabel(\"시즌\")\n",
    "    # plt.ylabel(\"득점\")\n",
    "    # plt.show()\n",
    "\n",
    "    plt.figure(figsize=(7,14),facecolor = \"white\")\n",
    "\n",
    "    plt.subplot(4,2,1)\n",
    "    plt.plot(dt.loc[:,\"season\"],dt.loc[:,\"score\"],\"--or\")\n",
    "    plt.title(\"득점\", fontsize=15)\n",
    "    plt.xlabel(\"시즌\")\n",
    "\n",
    "    plt.subplot(4,2,2)\n",
    "    plt.plot(dt.loc[:,\"season\"],dt.loc[:,\"attack_succes_percent\"],\"--or\")\n",
    "    plt.title(\"공격 성공률\", fontsize=15)\n",
    "    plt.xlabel(\"시즌\")\n",
    "    # plt.ylabel(\"공격 성공률\")\n",
    "\n",
    "    plt.subplot(4,2,3)\n",
    "    plt.plot(dt.loc[:,\"season\"],dt.loc[:,\"bloocking_avg\"],\"--or\")\n",
    "    plt.title(\"블로킹 AVG(set)\", fontsize=15)\n",
    "    plt.xlabel(\"시즌\")\n",
    "    # plt.ylabel(\"블로킹 AVG(set)\")\n",
    "\n",
    "    plt.subplot(4,2,4)\n",
    "    plt.plot(dt.loc[:,\"season\"],dt.loc[:,\"serve_avg\"],\"--or\")\n",
    "    plt.title(\"서브 AVG(set)\", fontsize=15)\n",
    "    plt.xlabel(\"시즌\")\n",
    "    # plt.ylabel(\"서브 AVG(set)\")\n",
    "\n",
    "    plt.subplot(4,2,5)\n",
    "    plt.plot(dt.loc[:,\"season\"],dt.loc[:,\"set_avg\"],\"--or\")\n",
    "    plt.title(\"세트 AVG(set)\", fontsize=15)\n",
    "    plt.xlabel(\"시즌\")\n",
    "    # plt.ylabel(\"세트 AVG(set)\")\n",
    "    \n",
    "    plt.subplot(4,2,6)\n",
    "    plt.plot(dt.loc[:,\"season\"],dt.loc[:,\"reveive_eff\"],\"--or\")\n",
    "    plt.title(\"리시브 효율\", fontsize=15)\n",
    "    plt.xlabel(\"시즌\")\n",
    "    # plt.ylabel(\"리시브 효율\")\n",
    "    \n",
    "    plt.subplot(4,2,7)\n",
    "    plt.plot(dt.loc[:,\"season\"],dt.loc[:,\"dig_avg\"],\"--or\")\n",
    "    plt.title(\"디그 AVG(set)\", fontsize=15)\n",
    "    plt.xlabel(\"시즌\")\n",
    "    # plt.ylabel(\"디그 AVG(set)\")\n",
    "\n",
    "    plt.subplot(4,2,8)\n",
    "    plt.plot(dt.loc[:,\"season\"],dt.loc[:,\"mistake\"],\"--or\")\n",
    "    plt.title(\"범실\", fontsize=15)\n",
    "    plt.xlabel(\"시즌\")\n",
    "\n",
    "\n",
    "    # subplot 전체 제목 설정\n",
    "    plt.suptitle(player+\"선수 시즌별 기록\",fontsize=25)\n",
    "\n",
    "    plt.subplots_adjust(hspace=0.7,wspace=0.5)\n",
    "    plt.show()\n",
    "\n",
    "\n",
    "\n",
    "# plt.show()"
   ]
  },
  {
   "cell_type": "code",
   "execution_count": null,
   "metadata": {},
   "outputs": [],
   "source": []
  }
 ],
 "metadata": {
  "kernelspec": {
   "display_name": "Python 3.9.12 ('base')",
   "language": "python",
   "name": "python3"
  },
  "language_info": {
   "codemirror_mode": {
    "name": "ipython",
    "version": 3
   },
   "file_extension": ".py",
   "mimetype": "text/x-python",
   "name": "python",
   "nbconvert_exporter": "python",
   "pygments_lexer": "ipython3",
   "version": "3.9.12"
  },
  "orig_nbformat": 4,
  "vscode": {
   "interpreter": {
    "hash": "ad2bdc8ecc057115af97d19610ffacc2b4e99fae6737bb82f5d7fb13d2f2c186"
   }
  }
 },
 "nbformat": 4,
 "nbformat_minor": 2
}
