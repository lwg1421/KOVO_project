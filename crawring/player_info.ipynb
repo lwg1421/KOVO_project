{
 "cells": [
  {
   "cell_type": "code",
   "execution_count": 167,
   "metadata": {},
   "outputs": [],
   "source": [
    "import requests\n",
    "import re\n",
    "import warnings\n",
    "\n",
    "# 불필요한 경고 출력을 방지합니다.\n",
    "warnings.filterwarnings('ignore')\n"
   ]
  },
  {
   "cell_type": "code",
   "execution_count": 168,
   "metadata": {},
   "outputs": [],
   "source": [
    "url = \"https://www.kovo.co.kr/team/21131_player_list.asp?t_code=1005&s_part=1\"\n",
    "html = requests.get(url, verify = False).text"
   ]
  },
  {
   "cell_type": "code",
   "execution_count": 169,
   "metadata": {},
   "outputs": [],
   "source": [
    "from bs4 import BeautifulSoup as bs\n",
    "soup = bs(html,\"lxml\")"
   ]
  },
  {
   "cell_type": "code",
   "execution_count": 170,
   "metadata": {},
   "outputs": [],
   "source": [
    "# 선수정보 탭만 가져오기\n",
    "player_all = soup.select(\"#tab2 > ul > li \")"
   ]
  },
  {
   "cell_type": "code",
   "execution_count": 171,
   "metadata": {},
   "outputs": [
    {
     "name": "stdout",
     "output_type": "stream",
     "text": [
      "['https://www.kovo.co.kr/team/21132_player_view.asp?p_code=1000059&t_code=1005&s_part=1', 'https://www.kovo.co.kr/team/21132_player_view.asp?p_code=0001178&t_code=1005&s_part=1', 'https://www.kovo.co.kr/team/21132_player_view.asp?p_code=0001377&t_code=1005&s_part=1', 'https://www.kovo.co.kr/team/21132_player_view.asp?p_code=0001365&t_code=1005&s_part=1', 'https://www.kovo.co.kr/team/21132_player_view.asp?p_code=0001462&t_code=1005&s_part=1', 'https://www.kovo.co.kr/team/21132_player_view.asp?p_code=0001967&t_code=1005&s_part=1', 'https://www.kovo.co.kr/team/21132_player_view.asp?p_code=1000138&t_code=1005&s_part=1', 'https://www.kovo.co.kr/team/21132_player_view.asp?p_code=0000853&t_code=1005&s_part=1', 'https://www.kovo.co.kr/team/21132_player_view.asp?p_code=0002255&t_code=1005&s_part=1', 'https://www.kovo.co.kr/team/21132_player_view.asp?p_code=0001873&t_code=1005&s_part=1', 'https://www.kovo.co.kr/team/21132_player_view.asp?p_code=0000874&t_code=1005&s_part=1', 'https://www.kovo.co.kr/team/21132_player_view.asp?p_code=0001956&t_code=1005&s_part=1', 'https://www.kovo.co.kr/team/21132_player_view.asp?p_code=0002256&t_code=1005&s_part=1', 'https://www.kovo.co.kr/team/21132_player_view.asp?p_code=1000139&t_code=1005&s_part=1', 'https://www.kovo.co.kr/team/21132_player_view.asp?p_code=0001291&t_code=1005&s_part=1', 'https://www.kovo.co.kr/team/21132_player_view.asp?p_code=0002233&t_code=1005&s_part=1', 'https://www.kovo.co.kr/team/21132_player_view.asp?p_code=0002104&t_code=1005&s_part=1', 'https://www.kovo.co.kr/team/21132_player_view.asp?p_code=1000060&t_code=1005&s_part=1', 'https://www.kovo.co.kr/team/21132_player_view.asp?p_code=0000027&t_code=1005&s_part=1', 'https://www.kovo.co.kr/team/21132_player_view.asp?p_code=1000061&t_code=1005&s_part=1']\n"
     ]
    }
   ],
   "source": [
    "# link_list에 각 선수별 링크 저장\n",
    "link_list = []\n",
    "\n",
    "for i in player_all :\n",
    "    linkfile = \"https://www.kovo.co.kr/team/\" + i.find(\"a\").get(\"href\")\n",
    "    link_list.append(linkfile)\n",
    "print(link_list)\n"
   ]
  },
  {
   "cell_type": "code",
   "execution_count": 172,
   "metadata": {},
   "outputs": [],
   "source": [
    "player_position = []\n",
    "player_name = []\n",
    "player_birth = []\n",
    "player_height = []\n",
    "player_weight = []\n",
    "player_history = []\n",
    "player_school = []\n",
    "player_img = []\n",
    "\n",
    "for player_link in link_list :\n",
    "    url = player_link\n",
    "    player_html = requests.get(url, verify = False).text\n",
    "    player_soup = bs(player_html,\"lxml\")\n",
    "\n",
    "    # 선수 포지션\n",
    "    player_position.append(re.sub(\"\\xa0\", \"\",str(player_soup.select(\"div.info > p.no\")).strip('[<p class=\"no\">'\"</p>]\")))\n",
    "\n",
    "    # 선수 이미지 링크\n",
    "    player_img.append(\"https://www.kovo.co.kr/\"+player_soup.select(\"div.clearfix > div.img > img\")[0].get(\"src\"))\n",
    "\n",
    "    # 선수 이름\n",
    "    player_name.append(str(player_soup.select(\"div.info > p.name\")).strip('[<p class=\"name\">'\"</p>]\"))\n",
    "\n",
    "    # 선수 생년월일\n",
    "    player_birth.append(str(player_soup.select(\"dl.clearfix > dd\")[0]).strip(\"<dd>\"\"</dd>\"))\n",
    "\n",
    "    # 선수 신장\n",
    "    player_height.append(str(player_soup.select(\"dl.clearfix > dd\")[1]).split(\"/\")[0].strip(\"<dd>\"\" \"))\n",
    "\n",
    "    # 선수 몸무게\n",
    "    player_weight.append(str(player_soup.select(\"dl.clearfix > dd\")[1]).split(\"/\")[1].strip(\"<\"\" \"))\n",
    "\n",
    "    # 선수 출신학교\n",
    "    player_school.append(str(player_soup.select(\"dl.clearfix > dd\")[2]).strip(\"<dd>\"\"</dd>\"))\n",
    "\n",
    "    # 선수 선수 이력\n",
    "    player_history.append(re.sub(\"\\xa0\", \"\", player_soup.select(\"dl.clearfix > dd\")[-1].get_text().strip(\"\\n\")))\n",
    "\n",
    "    # 선수 선수 이력 여러개일 경우 split으로 나눠줌\n",
    "    # re.sub(\"\\xa0\", \"\", player_soup.select(\"dl.clearfix > dd\")[-1].get_text().strip(\"\\n\")).split(\"\\n\")"
   ]
  },
  {
   "cell_type": "code",
   "execution_count": 173,
   "metadata": {},
   "outputs": [],
   "source": [
    "import pandas as pd\n"
   ]
  },
  {
   "cell_type": "code",
   "execution_count": 174,
   "metadata": {},
   "outputs": [],
   "source": [
    "player_df = pd.DataFrame({\"player_name\":player_name,\"player_position\":player_position,\"player_img\":player_img,\"player_birth\":player_birth,\"player_height\":player_height,\"player_weight\":player_weight,\"player_school\":player_school,\"player_history\":player_history})\n"
   ]
  },
  {
   "cell_type": "markdown",
   "metadata": {},
   "source": [
    "오레올 선수 출신 학교 정보 없음"
   ]
  },
  {
   "cell_type": "code",
   "execution_count": 181,
   "metadata": {},
   "outputs": [],
   "source": [
    "player_df.iloc[3,6] = \"NA\""
   ]
  },
  {
   "cell_type": "code",
   "execution_count": 183,
   "metadata": {},
   "outputs": [
    {
     "data": {
      "text/html": [
       "<div>\n",
       "<style scoped>\n",
       "    .dataframe tbody tr th:only-of-type {\n",
       "        vertical-align: middle;\n",
       "    }\n",
       "\n",
       "    .dataframe tbody tr th {\n",
       "        vertical-align: top;\n",
       "    }\n",
       "\n",
       "    .dataframe thead th {\n",
       "        text-align: right;\n",
       "    }\n",
       "</style>\n",
       "<table border=\"1\" class=\"dataframe\">\n",
       "  <thead>\n",
       "    <tr style=\"text-align: right;\">\n",
       "      <th></th>\n",
       "      <th>player_name</th>\n",
       "      <th>player_position</th>\n",
       "      <th>player_img</th>\n",
       "      <th>player_birth</th>\n",
       "      <th>player_height</th>\n",
       "      <th>player_weight</th>\n",
       "      <th>player_school</th>\n",
       "      <th>player_history</th>\n",
       "    </tr>\n",
       "  </thead>\n",
       "  <tbody>\n",
       "    <tr>\n",
       "      <th>0</th>\n",
       "      <td>김선호</td>\n",
       "      <td>NO.6 OUTSIDE HITTER</td>\n",
       "      <td>https://www.kovo.co.kr//upfiles/player/1000059...</td>\n",
       "      <td>1999년 01월 18일</td>\n",
       "      <td>187cm</td>\n",
       "      <td>82kg</td>\n",
       "      <td>부송초-남성중-남성고-한양대</td>\n",
       "      <td>2020-2021 V리그  현대캐피탈드래프트1라운드 1순위 (2020.10.16)</td>\n",
       "    </tr>\n",
       "    <tr>\n",
       "      <th>1</th>\n",
       "      <td>박주형</td>\n",
       "      <td>NO.9 OUTSIDE HITTER</td>\n",
       "      <td>https://www.kovo.co.kr//upfiles/player/0001178...</td>\n",
       "      <td>1987년 08월 05일</td>\n",
       "      <td>193cm</td>\n",
       "      <td>79kg</td>\n",
       "      <td>대천초 / 성지중 / 성지공고 / 성균관대</td>\n",
       "      <td>2010-2011 V리그  우리캐피탈드래프트1라운드 2순위 (2010.11.04)\\...</td>\n",
       "    </tr>\n",
       "    <tr>\n",
       "      <th>2</th>\n",
       "      <td>송준호</td>\n",
       "      <td>NO.8 OUTSIDE HITTER</td>\n",
       "      <td>https://www.kovo.co.kr//upfiles/player/0001377...</td>\n",
       "      <td>1991년 06월 05일</td>\n",
       "      <td>192cm</td>\n",
       "      <td>83kg</td>\n",
       "      <td>중앙중 / 중앙고 / 홍익대</td>\n",
       "      <td>2012-2013 V리그  현대캐피탈드래프트1라운드 4순위 (2012.10.22)\\...</td>\n",
       "    </tr>\n",
       "    <tr>\n",
       "      <th>3</th>\n",
       "      <td>오레올</td>\n",
       "      <td>NO.10 OUTSIDE HITTER</td>\n",
       "      <td>https://www.kovo.co.kr//upfiles/player/0001365...</td>\n",
       "      <td>1986년 07월 22일</td>\n",
       "      <td>207cm</td>\n",
       "      <td>104kg</td>\n",
       "      <td>NA</td>\n",
       "      <td>2012-2013 V리그  LIG손해보험 (2012.10.01)\\n2015-2016...</td>\n",
       "    </tr>\n",
       "    <tr>\n",
       "      <th>4</th>\n",
       "      <td>전광인</td>\n",
       "      <td>NO.12 OUTSIDE HITTER</td>\n",
       "      <td>https://www.kovo.co.kr//upfiles/player/0001462...</td>\n",
       "      <td>1991년 09월 18일</td>\n",
       "      <td>194cm</td>\n",
       "      <td>88kg</td>\n",
       "      <td>하동초 / 동명중·고 / 성균관대</td>\n",
       "      <td>2013-2014 V리그  한국전력드래프트1라운드 1순위 (2013.09.10)\\n...</td>\n",
       "    </tr>\n",
       "  </tbody>\n",
       "</table>\n",
       "</div>"
      ],
      "text/plain": [
       "  player_name       player_position  \\\n",
       "0         김선호   NO.6 OUTSIDE HITTER   \n",
       "1         박주형   NO.9 OUTSIDE HITTER   \n",
       "2         송준호   NO.8 OUTSIDE HITTER   \n",
       "3         오레올  NO.10 OUTSIDE HITTER   \n",
       "4         전광인  NO.12 OUTSIDE HITTER   \n",
       "\n",
       "                                          player_img   player_birth  \\\n",
       "0  https://www.kovo.co.kr//upfiles/player/1000059...  1999년 01월 18일   \n",
       "1  https://www.kovo.co.kr//upfiles/player/0001178...  1987년 08월 05일   \n",
       "2  https://www.kovo.co.kr//upfiles/player/0001377...  1991년 06월 05일   \n",
       "3  https://www.kovo.co.kr//upfiles/player/0001365...  1986년 07월 22일   \n",
       "4  https://www.kovo.co.kr//upfiles/player/0001462...  1991년 09월 18일   \n",
       "\n",
       "  player_height player_weight            player_school  \\\n",
       "0         187cm          82kg          부송초-남성중-남성고-한양대   \n",
       "1         193cm          79kg  대천초 / 성지중 / 성지공고 / 성균관대   \n",
       "2         192cm          83kg          중앙중 / 중앙고 / 홍익대   \n",
       "3         207cm         104kg                       NA   \n",
       "4         194cm          88kg       하동초 / 동명중·고 / 성균관대   \n",
       "\n",
       "                                      player_history  \n",
       "0      2020-2021 V리그  현대캐피탈드래프트1라운드 1순위 (2020.10.16)  \n",
       "1  2010-2011 V리그  우리캐피탈드래프트1라운드 2순위 (2010.11.04)\\...  \n",
       "2  2012-2013 V리그  현대캐피탈드래프트1라운드 4순위 (2012.10.22)\\...  \n",
       "3  2012-2013 V리그  LIG손해보험 (2012.10.01)\\n2015-2016...  \n",
       "4  2013-2014 V리그  한국전력드래프트1라운드 1순위 (2013.09.10)\\n...  "
      ]
     },
     "execution_count": 183,
     "metadata": {},
     "output_type": "execute_result"
    }
   ],
   "source": [
    "player_df.head()"
   ]
  },
  {
   "cell_type": "code",
   "execution_count": 184,
   "metadata": {},
   "outputs": [],
   "source": [
    "player_df.to_excel(\"C:/kovo/KOVO_player_data.xlsx\",index = False)"
   ]
  },
  {
   "cell_type": "code",
   "execution_count": null,
   "metadata": {},
   "outputs": [],
   "source": []
  }
 ],
 "metadata": {
  "kernelspec": {
   "display_name": "Python 3.9.12 ('base')",
   "language": "python",
   "name": "python3"
  },
  "language_info": {
   "codemirror_mode": {
    "name": "ipython",
    "version": 3
   },
   "file_extension": ".py",
   "mimetype": "text/x-python",
   "name": "python",
   "nbconvert_exporter": "python",
   "pygments_lexer": "ipython3",
   "version": "3.9.12"
  },
  "orig_nbformat": 4,
  "vscode": {
   "interpreter": {
    "hash": "ad2bdc8ecc057115af97d19610ffacc2b4e99fae6737bb82f5d7fb13d2f2c186"
   }
  }
 },
 "nbformat": 4,
 "nbformat_minor": 2
}
