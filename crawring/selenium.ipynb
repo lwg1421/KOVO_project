{
 "cells": [
  {
   "cell_type": "code",
   "execution_count": 11,
   "metadata": {},
   "outputs": [],
   "source": [
    "import requests\n",
    "import re\n",
    "import warnings\n",
    "\n",
    "# 불필요한 경고 출력을 방지합니다.\n",
    "warnings.filterwarnings('ignore')"
   ]
  },
  {
   "cell_type": "code",
   "execution_count": 12,
   "metadata": {},
   "outputs": [],
   "source": [
    "url = \"https://api01.statiz.co.kr:444/kovo/w/?p=chart&season=018&s_part=1&searchType=divKOVOS&searchDate=SEASON2022&position=S&team=&page=1&orderBy=wt_totalPoint&orderSort=\"\n",
    "html = requests.get(url, verify = False).text"
   ]
  },
  {
   "cell_type": "code",
   "execution_count": 14,
   "metadata": {},
   "outputs": [],
   "source": [
    "from bs4 import BeautifulSoup as bs\n",
    "soup = bs(html,\"lxml\")"
   ]
  },
  {
   "cell_type": "code",
   "execution_count": 25,
   "metadata": {},
   "outputs": [],
   "source": [
    "# 기록 테이블만 가져오기\n",
    "player_table = soup.find(\"div\",{\"class\":\"table-div\"})"
   ]
  },
  {
   "cell_type": "code",
   "execution_count": 26,
   "metadata": {},
   "outputs": [],
   "source": [
    "player_record = player_table.select(\"tbody > tr > td\")"
   ]
  },
  {
   "cell_type": "code",
   "execution_count": 27,
   "metadata": {},
   "outputs": [
    {
     "data": {
      "text/plain": [
       "500"
      ]
     },
     "execution_count": 27,
     "metadata": {},
     "output_type": "execute_result"
    }
   ],
   "source": [
    "len(player_record)"
   ]
  },
  {
   "cell_type": "code",
   "execution_count": 30,
   "metadata": {},
   "outputs": [
    {
     "data": {
      "text/plain": [
       "[<td>1</td>,\n",
       " <td class=\"name\">황택의</td>,\n",
       " <td class=\"name\">KB손해보험</td>,\n",
       " <td class=\"focus\">1870.6</td>,\n",
       " <td>36</td>,\n",
       " <td>139</td>,\n",
       " <td>76</td>,\n",
       " <td>124</td>]"
      ]
     },
     "execution_count": 30,
     "metadata": {},
     "output_type": "execute_result"
    }
   ],
   "source": [
    "player_record[0:8]"
   ]
  },
  {
   "cell_type": "code",
   "execution_count": null,
   "metadata": {},
   "outputs": [],
   "source": [
    "rank = []\n",
    "player_name = []\n",
    "team = []\n",
    "to_ranking_point = []\n",
    "game_count = []\n",
    "set_count = []\n",
    "score = []\n",
    "error = []\n",
    "\n",
    "attack_attempt = []\n",
    "attack_success = []\n",
    "attack_block = []\n",
    "attack_error = []\n",
    "\n",
    "serve_attempt = []\n",
    "serve_success = []\n",
    "serve_error = []\n",
    "\n",
    "set_attempt = []\n",
    "set_success = []\n",
    "\n",
    "blocking_attempt = []\n",
    "blocking_success = []\n",
    "bblocking_error = []\n",
    "\n",
    "receive_attempt = []\n",
    "receive_correct = []\n",
    "\n"
   ]
  }
 ],
 "metadata": {
  "kernelspec": {
   "display_name": "Python 3.9.12 ('base')",
   "language": "python",
   "name": "python3"
  },
  "language_info": {
   "codemirror_mode": {
    "name": "ipython",
    "version": 3
   },
   "file_extension": ".py",
   "mimetype": "text/x-python",
   "name": "python",
   "nbconvert_exporter": "python",
   "pygments_lexer": "ipython3",
   "version": "3.9.12"
  },
  "orig_nbformat": 4,
  "vscode": {
   "interpreter": {
    "hash": "ad2bdc8ecc057115af97d19610ffacc2b4e99fae6737bb82f5d7fb13d2f2c186"
   }
  }
 },
 "nbformat": 4,
 "nbformat_minor": 2
}
